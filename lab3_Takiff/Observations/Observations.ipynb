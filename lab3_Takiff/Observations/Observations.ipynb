{
    "metadata": {
        "kernelspec": {
            "name": "python3",
            "display_name": "Python 3 (ipykernel)",
            "language": "python"
        }
    },
    "nbformat": 4,
    "nbformat_minor": 2,
    "cells": [
        {
            "attachments": {},
            "cell_type": "markdown",
            "metadata": {},
            "source": [
                "**In the example(s) that you run, what did you learn about how entropy helps us understand data? In your answer, use results that you got from running your code**"
            ]
        },
        {
            "attachments": {},
            "cell_type": "markdown",
            "metadata": {},
            "source": [
                "Using entropy is useful when trying to get information from a dataset. We want to make sure our data has high entropy since this will give us a less biased/more balenced dataset. For example if our dataset is the same (low entropy) we do not get that much information from any additional peice of data. On the other hand our model will learn fastest when each new data gives our models something to learn."
            ]
        },
        {
            "attachments": {},
            "cell_type": "markdown",
            "metadata": {},
            "source": [
                "**What was the hardest part of the session?**\n",
                ""
            ]
        },
        {
            "attachments": {},
            "cell_type": "markdown",
            "metadata": {},
            "source": [
                "The hardest part of the lab was understanding how gym and weights would be used in the reinforcement learning. I kept getting very negative scores for my earn you wings section and I think further adjustment to rewards and how to calculate them was needed"
            ]
        },
        {
            "attachments": {},
            "cell_type": "markdown",
            "metadata": {},
            "source": [
                "**Please post a link to your public github repo**"
            ]
        },
        {
            "attachments": {},
            "cell_type": "markdown",
            "metadata": {},
            "source": [
                ""
            ]
        }
    ]
}
