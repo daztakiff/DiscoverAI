{
    "metadata": {
        "kernelspec": {
            "name": "python3",
            "display_name": "Python 3 (ipykernel)",
            "language": "python"
        }
    },
    "nbformat": 4,
    "nbformat_minor": 2,
    "cells": [
        {
            "attachments": {},
            "cell_type": "markdown",
            "metadata": {},
            "source": [
                "# **Custom Environment for Reinforcement Learning**"
            ]
        },
        {
            "attachments": {},
            "cell_type": "markdown",
            "metadata": {},
            "source": [
                "The code below is taken from Nicholas Renotte's tutorial on how to create Custom environments for reinforcement learning. [Tutorial](https://youtu.be/Mut_u40Sqz4?t=8940), [code on github](https://github.com/nicknochnack/ReinforcementLearningCourse/blob/main/Project%203%20-%20Custom%20Environment.ipynb).\n",
                "\n",
                "You are encouraged to visit the links above and check out the full code. In this lab, you will practice training a model."
            ]
        },
        {
            "attachments": {},
            "cell_type": "markdown",
            "metadata": {},
            "source": [
                "**About the problem**"
            ]
        },
        {
            "attachments": {},
            "cell_type": "markdown",
            "metadata": {},
            "source": [
                "The task is to build an agent that regulates the shower temperature to give the best shower possible every time.\n",
                "\n",
                "Based the activity of other people in the building, the temperature fluctuates randomly. Assuming that our optimal temperature is between 37 and 39 degrees, we want to train an agent to automatically respond to changes in temperature and get it back within the preferred range.\n",
                "\n",
                "Note that the agent does not know the preffered range ahead of time, and should instead learn the types of adjustments it can make to get a reward."
            ]
        },
        {
            "attachments": {},
            "cell_type": "markdown",
            "metadata": {},
            "source": [
                "**Import libraries**"
            ]
        },
        {
            "cell_type": "code",
            "execution_count": 49,
            "metadata": {},
            "outputs": [],
            "source": [
                "import os\n",
                "# Avoid reinstalling packages that are available on edstem\n",
                "if not os.getenv(\"ED_COURSE_ID\"):\n",
                "    !pip install tensorflow stable_baselines3 torch collections gym box2d-py --user\n",
                "\n",
                "# Import gym libraries\n",
                "import gym \n",
                "from gym import Env # the supperclass to build our own environment\n",
                "# All different types of spaces available in Gym\n",
                "from gym.spaces import Discrete, Box, Dict, Tuple, MultiBinary, MultiDiscrete \n",
                "\n",
                "# Import helpers\n",
                "import numpy as np\n",
                "import random\n",
                "\n",
                "#Import stable bbaselines libraries\n",
                "from stable_baselines3 import PPO\n",
                "from stable_baselines3.common.vec_env import DummyVecEnv\n",
                "from stable_baselines3.common.evaluation import evaluate_policy"
            ]
        },
        {
            "attachments": {},
            "cell_type": "markdown",
            "metadata": {},
            "source": [
                "# Inspect types of spaces"
            ]
        },
        {
            "attachments": {},
            "cell_type": "markdown",
            "metadata": {},
            "source": [
                "There are four key types of Gym spaces:\n",
                "Box, Discrete, Multibinary and MultiDiscrete.\n",
                "\n",
                "There are two wrapper spaces, Tuple and Dict that help group different spaces together.\n",
                "\n",
                "These spaces can be used to create simple environment, like the shower environment in the following example."
            ]
        },
        {
            "cell_type": "code",
            "execution_count": 50,
            "metadata": {},
            "outputs": [],
            "source": [
                "# Define a discrete space\n",
                "disc = Discrete(3)"
            ]
        },
        {
            "cell_type": "code",
            "execution_count": 51,
            "metadata": {},
            "outputs": [
                {
                    "data": {
                        "text/plain": "1"
                    },
                    "execution_count": 51,
                    "metadata": {},
                    "output_type": "execute_result"
                }
            ],
            "source": [
                "# Sample the discrete space for a value (between 0 and 2)\n",
                "disc.sample()"
            ]
        },
        {
            "cell_type": "code",
            "execution_count": 52,
            "metadata": {},
            "outputs": [],
            "source": [
                "# Define a box space\n",
                "box = Box(0,1,shape=(3,3))"
            ]
        },
        {
            "cell_type": "code",
            "execution_count": 53,
            "metadata": {},
            "outputs": [
                {
                    "data": {
                        "text/plain": "array([[0.452017  , 0.8915257 , 0.11107784],\n       [0.31095484, 0.7474288 , 0.5788188 ],\n       [0.87251604, 0.9728183 , 0.5643478 ]], dtype=float32)"
                    },
                    "execution_count": 53,
                    "metadata": {},
                    "output_type": "execute_result"
                }
            ],
            "source": [
                "#TODO: Sample the box space for a value\n",
                "box.sample()"
            ]
        },
        {
            "cell_type": "code",
            "execution_count": 54,
            "metadata": {},
            "outputs": [],
            "source": [
                "# Define a tuple space and combine a discrete and box spaces\n",
                "tup = Tuple((Discrete(2), Box(0,100, shape=(1,))))"
            ]
        },
        {
            "cell_type": "code",
            "execution_count": 55,
            "metadata": {},
            "outputs": [
                {
                    "data": {
                        "text/plain": "(1, array([9.937458], dtype=float32))"
                    },
                    "execution_count": 55,
                    "metadata": {},
                    "output_type": "execute_result"
                }
            ],
            "source": [
                "#TODO: Sample the tuple space for a value\n",
                "tup.sample()"
            ]
        },
        {
            "cell_type": "code",
            "execution_count": 56,
            "metadata": {},
            "outputs": [],
            "source": [
                "# Define a dict space\n",
                "dic = Dict({'height':Discrete(2), \"speed\":Box(0,100, shape=(1,))}).sample()"
            ]
        },
        {
            "cell_type": "code",
            "execution_count": 57,
            "metadata": {},
            "outputs": [],
            "source": [
                "# Define a multibinary space\n",
                "multibi = MultiBinary(4)"
            ]
        },
        {
            "cell_type": "code",
            "execution_count": 58,
            "metadata": {},
            "outputs": [
                {
                    "data": {
                        "text/plain": "array([0, 1, 0, 0], dtype=int8)"
                    },
                    "execution_count": 58,
                    "metadata": {},
                    "output_type": "execute_result"
                }
            ],
            "source": [
                "#TODO: Sample the multibinary space for a value\n",
                "multibi.sample()"
            ]
        },
        {
            "cell_type": "code",
            "execution_count": 59,
            "metadata": {},
            "outputs": [],
            "source": [
                "# Define a multidiscrete space\n",
                "multidi = MultiDiscrete([5,2,2])"
            ]
        },
        {
            "cell_type": "code",
            "execution_count": 60,
            "metadata": {},
            "outputs": [
                {
                    "data": {
                        "text/plain": "array([0, 0, 0])"
                    },
                    "execution_count": 60,
                    "metadata": {},
                    "output_type": "execute_result"
                }
            ],
            "source": [
                "#TODO: Sample the multidiscrete space for a value\n",
                "multidi.sample()"
            ]
        },
        {
            "attachments": {},
            "cell_type": "markdown",
            "metadata": {},
            "source": [
                "# Create a custom environment"
            ]
        },
        {
            "cell_type": "code",
            "execution_count": 61,
            "metadata": {},
            "outputs": [],
            "source": [
                "# Define a shower environment class with four key functions\n",
                "class ShowerEnv(Env):\n",
                "    # Define a function to initialize the environment\n",
                "    def __init__(self):\n",
                "        # Define the discrete action space: \n",
                "        # Actions we can take, down, hold, up\n",
                "        self.action_space = Discrete(3)\n",
                "        # Define a temperature range from 0 to 100\n",
                "        self.observation_space = Box(low=np.array([0]), high=np.array([100]))\n",
                "        # Set initial state: starting temp is 38 +- 3\n",
                "        self.state = 38 + random.randint(-3,3)\n",
                "        # Set shower length: set to 60 seconds for testing\n",
                "        self.shower_length = 60\n",
                "\n",
                "    # Define the step function for what to do in one action step    \n",
                "    def step(self, action):\n",
                "        # Apply impact of the action on current state\n",
                "        # 0 -1 = -1 temperature\n",
                "        # 1 -1 = 0 \n",
                "        # 2 -1 = 1 temperature \n",
                "        self.state += action -1 \n",
                "        # Reduce shower length by 1 second at each action\n",
                "        self.shower_length -= 1 \n",
                "        \n",
                "        # Calculate reward\n",
                "        # If the temperature is within preferred range, the reward is positive\n",
                "        if self.state \u003e= 37 and self.state \u003c= 39: \n",
                "            reward = 1 \n",
                "        # If the reward is outside of preferred range, the reward is negative \n",
                "        else: \n",
                "            reward = -1 \n",
                "        \n",
                "        # Check if shower is done\n",
                "        if self.shower_length \u003c= 0: \n",
                "            done = True\n",
                "        else:\n",
                "            done = False\n",
                "        \n",
                "        # Set placeholder for info\n",
                "        info = {}\n",
                "        \n",
                "        # Return step information\n",
                "        return self.state, reward, done, info\n",
                "\n",
                "    # For this lab, we will not implement a visualization of the environment\n",
                "    def render(self):\n",
                "        # Implement viz\n",
                "        pass\n",
                "    \n",
                "    # Define function to reset the environment for the next run\n",
                "    def reset(self):\n",
                "        # Reset shower temperature to a random value between 35 and 41\n",
                "        self.state = np.array([38 + random.randint(-3,3)]).astype(float)\n",
                "        # Reset shower time\n",
                "        self.shower_length = 60 \n",
                "        return self.state"
            ]
        },
        {
            "attachments": {},
            "cell_type": "markdown",
            "metadata": {},
            "source": [
                "# Test the environment"
            ]
        },
        {
            "cell_type": "code",
            "execution_count": 62,
            "metadata": {},
            "outputs": [
                {
                    "name": "stderr",
                    "output_type": "stream",
                    "text": "/usr/lib/python3.10/site-packages/gym/spaces/box.py:84: UserWarning: \u001b[33mWARN: Box bound precision lowered by casting to float32\u001b[0m\n  logger.warn(f\"Box bound precision lowered by casting to {self.dtype}\")\n"
                }
            ],
            "source": [
                "# Initialize the environment\n",
                "env=ShowerEnv()"
            ]
        },
        {
            "cell_type": "code",
            "execution_count": 63,
            "metadata": {},
            "outputs": [
                {
                    "name": "stdout",
                    "output_type": "stream",
                    "text": "Box(0.0, 100.0, (1,), float32)\n"
                }
            ],
            "source": [
                "#TODO: Write code to sample the environment's observation space\n",
                "a = env.observation_space\n",
                "print(a)"
            ]
        },
        {
            "cell_type": "code",
            "execution_count": 64,
            "metadata": {},
            "outputs": [
                {
                    "data": {
                        "text/plain": "Discrete(3)"
                    },
                    "execution_count": 64,
                    "metadata": {},
                    "output_type": "execute_result"
                }
            ],
            "source": [
                "#TODO: Write code to sample the environment's action space\n",
                "env.action_space"
            ]
        },
        {
            "cell_type": "code",
            "execution_count": 65,
            "metadata": {},
            "outputs": [
                {
                    "data": {
                        "text/plain": "array([37.])"
                    },
                    "execution_count": 65,
                    "metadata": {},
                    "output_type": "execute_result"
                }
            ],
            "source": [
                "# Reset the environment\n",
                "env.reset()"
            ]
        },
        {
            "cell_type": "code",
            "execution_count": 66,
            "metadata": {},
            "outputs": [
                {
                    "name": "stdout",
                    "output_type": "stream",
                    "text": "Episode:1 Score:-30\nEpisode:2 Score:-48\nEpisode:3 Score:-34\nEpisode:4 Score:-24\nEpisode:5 Score:-22\n"
                }
            ],
            "source": [
                "# Test five episodes of taking random Actions\n",
                "# in the environment\n",
                "episodes = 5\n",
                "for episode in range(1, episodes+1):\n",
                "    state = env.reset()\n",
                "    done = False\n",
                "    score = 0 \n",
                "    \n",
                "    while not done:\n",
                "        env.render()\n",
                "        action = env.action_space.sample()\n",
                "        n_state, reward, done, info = env.step(action)\n",
                "        score+=reward\n",
                "    print('Episode:{} Score:{}'.format(episode, score))\n",
                "    \n",
                "env.close()"
            ]
        },
        {
            "attachments": {},
            "cell_type": "markdown",
            "metadata": {},
            "source": [
                "# Earn Your Wings"
            ]
        },
        {
            "attachments": {},
            "cell_type": "markdown",
            "metadata": {},
            "source": [
                "Implement the rest of the reinforcement learning algorithm to train the model using MlpPolicy. Save the training in the log_path defined below, and evaluate the model at the end with render set to False. Add comments in your code to explain each step that you take in your implementation.\n",
                ""
            ]
        },
        {
            "cell_type": "code",
            "execution_count": 67,
            "metadata": {},
            "outputs": [],
            "source": [
                "# Define a path for where to output the training log files\n",
                "log_path = os.path.join('ReinforcementLearning/ShowerEnvironment/Training', 'Logs')"
            ]
        },
        {
            "cell_type": "code",
            "execution_count": 68,
            "metadata": {},
            "outputs": [
                {
                    "name": "stdout",
                    "output_type": "stream",
                    "text": "Using cpu device\nWrapping the env with a `Monitor` wrapper\nWrapping the env in a DummyVecEnv.\n"
                }
            ],
            "source": [
                "model = PPO(\"MlpPolicy\", env, verbose=1, tensorboard_log=log_path) #implemented learning algorithm"
            ]
        },
        {
            "attachments": {},
            "cell_type": "markdown",
            "metadata": {},
            "source": [
                ""
            ]
        },
        {
            "cell_type": "code",
            "execution_count": 76,
            "metadata": {},
            "outputs": [
                {
                    "name": "stdout",
                    "output_type": "stream",
                    "text": "Logging to ReinforcementLearning/ShowerEnvironment/Training/Logs/PPO_7\n---------------------------------\n| rollout/           |          |\n|    ep_len_mean     | 60       |\n|    ep_rew_mean     | 54.2     |\n| time/              |          |\n|    fps             | 3500     |\n|    iterations      | 1        |\n|    time_elapsed    | 0        |\n|    total_timesteps | 2048     |\n---------------------------------\n------------------------------------------\n| rollout/                |              |\n|    ep_len_mean          | 60           |\n|    ep_rew_mean          | 54.3         |\n| time/                   |              |\n|    fps                  | 2574         |\n|    iterations           | 2            |\n|    time_elapsed         | 1            |\n|    total_timesteps      | 4096         |\n| train/                  |              |\n|    approx_kl            | 0.0055662785 |\n|    clip_fraction        | 0.202        |\n|    clip_range           | 0.2          |\n|    entropy_loss         | -0.762       |\n|    explained_variance   | 4.77e-07     |\n|    learning_rate        | 0.0003       |\n|    loss                 | 61.8         |\n|    n_updates            | 540          |\n|    policy_gradient_loss | 0.0164       |\n|    value_loss           | 102          |\n------------------------------------------\n-----------------------------------------\n| rollout/                |             |\n|    ep_len_mean          | 60          |\n|    ep_rew_mean          | 54.8        |\n| time/                   |             |\n|    fps                  | 2358        |\n|    iterations           | 3           |\n|    time_elapsed         | 2           |\n|    total_timesteps      | 6144        |\n| train/                  |             |\n|    approx_kl            | 0.008888291 |\n|    clip_fraction        | 0.106       |\n|    clip_range           | 0.2         |\n|    entropy_loss         | -0.761      |\n|    explained_variance   | 1.01e-06    |\n|    learning_rate        | 0.0003      |\n|    loss                 | 55.9        |\n|    n_updates            | 550         |\n|    policy_gradient_loss | 0.00187     |\n|    value_loss           | 107         |\n-----------------------------------------\n-----------------------------------------\n| rollout/                |             |\n|    ep_len_mean          | 60          |\n|    ep_rew_mean          | 54.5        |\n| time/                   |             |\n|    fps                  | 2235        |\n|    iterations           | 4           |\n|    time_elapsed         | 3           |\n|    total_timesteps      | 8192        |\n| train/                  |             |\n|    approx_kl            | 0.016862802 |\n|    clip_fraction        | 0.14        |\n|    clip_range           | 0.2         |\n|    entropy_loss         | -0.741      |\n|    explained_variance   | -2.38e-07   |\n|    learning_rate        | 0.0003      |\n|    loss                 | 49.9        |\n|    n_updates            | 560         |\n|    policy_gradient_loss | 0.0072      |\n|    value_loss           | 108         |\n-----------------------------------------\n-----------------------------------------\n| rollout/                |             |\n|    ep_len_mean          | 60          |\n|    ep_rew_mean          | 52.5        |\n| time/                   |             |\n|    fps                  | 2188        |\n|    iterations           | 5           |\n|    time_elapsed         | 4           |\n|    total_timesteps      | 10240       |\n| train/                  |             |\n|    approx_kl            | 0.010275755 |\n|    clip_fraction        | 0.148       |\n|    clip_range           | 0.2         |\n|    entropy_loss         | -0.748      |\n|    explained_variance   | 2.98e-07    |\n|    learning_rate        | 0.0003      |\n|    loss                 | 43.7        |\n|    n_updates            | 570         |\n|    policy_gradient_loss | 0.00792     |\n|    value_loss           | 106         |\n-----------------------------------------\n------------------------------------------\n| rollout/                |              |\n|    ep_len_mean          | 60           |\n|    ep_rew_mean          | 46.5         |\n| time/                   |              |\n|    fps                  | 2165         |\n|    iterations           | 6            |\n|    time_elapsed         | 5            |\n|    total_timesteps      | 12288        |\n| train/                  |              |\n|    approx_kl            | 0.0155466525 |\n|    clip_fraction        | 0.171        |\n|    clip_range           | 0.2          |\n|    entropy_loss         | -0.737       |\n|    explained_variance   | 6.56e-07     |\n|    learning_rate        | 0.0003       |\n|    loss                 | 60.4         |\n|    n_updates            | 580          |\n|    policy_gradient_loss | 0.0124       |\n|    value_loss           | 106          |\n------------------------------------------\n-----------------------------------------\n| rollout/                |             |\n|    ep_len_mean          | 60          |\n|    ep_rew_mean          | 37.7        |\n| time/                   |             |\n|    fps                  | 2153        |\n|    iterations           | 7           |\n|    time_elapsed         | 6           |\n|    total_timesteps      | 14336       |\n| train/                  |             |\n|    approx_kl            | 0.008318471 |\n|    clip_fraction        | 0.158       |\n|    clip_range           | 0.2         |\n|    entropy_loss         | -0.725      |\n|    explained_variance   | 3.22e-06    |\n|    learning_rate        | 0.0003      |\n|    loss                 | 45.3        |\n|    n_updates            | 590         |\n|    policy_gradient_loss | 0.00221     |\n|    value_loss           | 95.2        |\n-----------------------------------------\n----------------------------------------\n| rollout/                |            |\n|    ep_len_mean          | 60         |\n|    ep_rew_mean          | 38.1       |\n| time/                   |            |\n|    fps                  | 2134       |\n|    iterations           | 8          |\n|    time_elapsed         | 7          |\n|    total_timesteps      | 16384      |\n| train/                  |            |\n|    approx_kl            | 0.01539238 |\n|    clip_fraction        | 0.177      |\n|    clip_range           | 0.2        |\n|    entropy_loss         | -0.734     |\n|    explained_variance   | 0.000988   |\n|    learning_rate        | 0.0003     |\n|    loss                 | 34         |\n|    n_updates            | 600        |\n|    policy_gradient_loss | -0.00326   |\n|    value_loss           | 78.5       |\n----------------------------------------\n-----------------------------------------\n| rollout/                |             |\n|    ep_len_mean          | 60          |\n|    ep_rew_mean          | 43.8        |\n| time/                   |             |\n|    fps                  | 2101        |\n|    iterations           | 9           |\n|    time_elapsed         | 8           |\n|    total_timesteps      | 18432       |\n| train/                  |             |\n|    approx_kl            | 0.011790246 |\n|    clip_fraction        | 0.171       |\n|    clip_range           | 0.2         |\n|    entropy_loss         | -0.737      |\n|    explained_variance   | 0.00393     |\n|    learning_rate        | 0.0003      |\n|    loss                 | 38          |\n|    n_updates            | 610         |\n|    policy_gradient_loss | 0.00981     |\n|    value_loss           | 74          |\n-----------------------------------------\n-----------------------------------------\n| rollout/                |             |\n|    ep_len_mean          | 60          |\n|    ep_rew_mean          | 52.6        |\n| time/                   |             |\n|    fps                  | 2101        |\n|    iterations           | 10          |\n|    time_elapsed         | 9           |\n|    total_timesteps      | 20480       |\n| train/                  |             |\n|    approx_kl            | 0.015580654 |\n|    clip_fraction        | 0.154       |\n|    clip_range           | 0.2         |\n|    entropy_loss         | -0.741      |\n|    explained_variance   | 0.00169     |\n|    learning_rate        | 0.0003      |\n|    loss                 | 35.4        |\n|    n_updates            | 620         |\n|    policy_gradient_loss | 0.0108      |\n|    value_loss           | 83.2        |\n-----------------------------------------\n-----------------------------------------\n| rollout/                |             |\n|    ep_len_mean          | 60          |\n|    ep_rew_mean          | 54.3        |\n| time/                   |             |\n|    fps                  | 2100        |\n|    iterations           | 11          |\n|    time_elapsed         | 10          |\n|    total_timesteps      | 22528       |\n| train/                  |             |\n|    approx_kl            | 0.009017792 |\n|    clip_fraction        | 0.155       |\n|    clip_range           | 0.2         |\n|    entropy_loss         | -0.733      |\n|    explained_variance   | -0.000676   |\n|    learning_rate        | 0.0003      |\n|    loss                 | 50.2        |\n|    n_updates            | 630         |\n|    policy_gradient_loss | 0.00889     |\n|    value_loss           | 93.9        |\n-----------------------------------------\n-----------------------------------------\n| rollout/                |             |\n|    ep_len_mean          | 60          |\n|    ep_rew_mean          | 54.6        |\n| time/                   |             |\n|    fps                  | 2099        |\n|    iterations           | 12          |\n|    time_elapsed         | 11          |\n|    total_timesteps      | 24576       |\n| train/                  |             |\n|    approx_kl            | 0.033727936 |\n|    clip_fraction        | 0.169       |\n|    clip_range           | 0.2         |\n|    entropy_loss         | -0.752      |\n|    explained_variance   | -6.89e-05   |\n|    learning_rate        | 0.0003      |\n|    loss                 | 31.6        |\n|    n_updates            | 640         |\n|    policy_gradient_loss | 0.0113      |\n|    value_loss           | 97.6        |\n-----------------------------------------\n-----------------------------------------\n| rollout/                |             |\n|    ep_len_mean          | 60          |\n|    ep_rew_mean          | 55.6        |\n| time/                   |             |\n|    fps                  | 2098        |\n|    iterations           | 13          |\n|    time_elapsed         | 12          |\n|    total_timesteps      | 26624       |\n| train/                  |             |\n|    approx_kl            | 0.017769746 |\n|    clip_fraction        | 0.149       |\n|    clip_range           | 0.2         |\n|    entropy_loss         | -0.744      |\n|    explained_variance   | -6.91e-06   |\n|    learning_rate        | 0.0003      |\n|    loss                 | 53.3        |\n|    n_updates            | 650         |\n|    policy_gradient_loss | 0.00977     |\n|    value_loss           | 104         |\n-----------------------------------------\n-----------------------------------------\n| rollout/                |             |\n|    ep_len_mean          | 60          |\n|    ep_rew_mean          | 55          |\n| time/                   |             |\n|    fps                  | 2094        |\n|    iterations           | 14          |\n|    time_elapsed         | 13          |\n|    total_timesteps      | 28672       |\n| train/                  |             |\n|    approx_kl            | 0.009634461 |\n|    clip_fraction        | 0.159       |\n|    clip_range           | 0.2         |\n|    entropy_loss         | -0.743      |\n|    explained_variance   | -8.23e-06   |\n|    learning_rate        | 0.0003      |\n|    loss                 | 43.5        |\n|    n_updates            | 660         |\n|    policy_gradient_loss | 0.0109      |\n|    value_loss           | 108         |\n-----------------------------------------\n-----------------------------------------\n| rollout/                |             |\n|    ep_len_mean          | 60          |\n|    ep_rew_mean          | 55.5        |\n| time/                   |             |\n|    fps                  | 2094        |\n|    iterations           | 15          |\n|    time_elapsed         | 14          |\n|    total_timesteps      | 30720       |\n| train/                  |             |\n|    approx_kl            | 0.015496258 |\n|    clip_fraction        | 0.177       |\n|    clip_range           | 0.2         |\n|    entropy_loss         | -0.739      |\n|    explained_variance   | 1.58e-05    |\n|    learning_rate        | 0.0003      |\n|    loss                 | 62.8        |\n|    n_updates            | 670         |\n|    policy_gradient_loss | 0.00993     |\n|    value_loss           | 107         |\n-----------------------------------------\n------------------------------------------\n| rollout/                |              |\n|    ep_len_mean          | 60           |\n|    ep_rew_mean          | 55.4         |\n| time/                   |              |\n|    fps                  | 2094         |\n|    iterations           | 16           |\n|    time_elapsed         | 15           |\n|    total_timesteps      | 32768        |\n| train/                  |              |\n|    approx_kl            | 0.0049004136 |\n|    clip_fraction        | 0.176        |\n|    clip_range           | 0.2          |\n|    entropy_loss         | -0.724       |\n|    explained_variance   | -2.34e-05    |\n|    learning_rate        | 0.0003       |\n|    loss                 | 61.4         |\n|    n_updates            | 680          |\n|    policy_gradient_loss | 0.0147       |\n|    value_loss           | 112          |\n------------------------------------------\n-----------------------------------------\n| rollout/                |             |\n|    ep_len_mean          | 60          |\n|    ep_rew_mean          | 56.3        |\n| time/                   |             |\n|    fps                  | 2093        |\n|    iterations           | 17          |\n|    time_elapsed         | 16          |\n|    total_timesteps      | 34816       |\n| train/                  |             |\n|    approx_kl            | 0.034961954 |\n|    clip_fraction        | 0.212       |\n|    clip_range           | 0.2         |\n|    entropy_loss         | -0.741      |\n|    explained_variance   | -1.75e-05   |\n|    learning_rate        | 0.0003      |\n|    loss                 | 75.1        |\n|    n_updates            | 690         |\n|    policy_gradient_loss | 0.0158      |\n|    value_loss           | 111         |\n-----------------------------------------\n-----------------------------------------\n| rollout/                |             |\n|    ep_len_mean          | 60          |\n|    ep_rew_mean          | 56.4        |\n| time/                   |             |\n|    fps                  | 2093        |\n|    iterations           | 18          |\n|    time_elapsed         | 17          |\n|    total_timesteps      | 36864       |\n| train/                  |             |\n|    approx_kl            | 0.008243634 |\n|    clip_fraction        | 0.15        |\n|    clip_range           | 0.2         |\n|    entropy_loss         | -0.741      |\n|    explained_variance   | 1.08e-05    |\n|    learning_rate        | 0.0003      |\n|    loss                 | 55.4        |\n|    n_updates            | 700         |\n|    policy_gradient_loss | 0.0106      |\n|    value_loss           | 113         |\n-----------------------------------------\n-----------------------------------------\n| rollout/                |             |\n|    ep_len_mean          | 60          |\n|    ep_rew_mean          | 55.4        |\n| time/                   |             |\n|    fps                  | 2091        |\n|    iterations           | 19          |\n|    time_elapsed         | 18          |\n|    total_timesteps      | 38912       |\n| train/                  |             |\n|    approx_kl            | 0.010807242 |\n|    clip_fraction        | 0.177       |\n|    clip_range           | 0.2         |\n|    entropy_loss         | -0.739      |\n|    explained_variance   | 1.85e-05    |\n|    learning_rate        | 0.0003      |\n|    loss                 | 61.1        |\n|    n_updates            | 710         |\n|    policy_gradient_loss | 0.0132      |\n|    value_loss           | 113         |\n-----------------------------------------\n-----------------------------------------\n| rollout/                |             |\n|    ep_len_mean          | 60          |\n|    ep_rew_mean          | 55          |\n| time/                   |             |\n|    fps                  | 2088        |\n|    iterations           | 20          |\n|    time_elapsed         | 19          |\n|    total_timesteps      | 40960       |\n| train/                  |             |\n|    approx_kl            | 0.014952451 |\n|    clip_fraction        | 0.181       |\n|    clip_range           | 0.2         |\n|    entropy_loss         | -0.737      |\n|    explained_variance   | 2.16e-05    |\n|    learning_rate        | 0.0003      |\n|    loss                 | 43          |\n|    n_updates            | 720         |\n|    policy_gradient_loss | 0.0116      |\n|    value_loss           | 111         |\n-----------------------------------------\n"
                },
                {
                    "data": {
                        "text/plain": "\u003cstable_baselines3.ppo.ppo.PPO at 0x7f58267fe0e0\u003e"
                    },
                    "execution_count": 76,
                    "metadata": {},
                    "output_type": "execute_result"
                }
            ],
            "source": [
                "model.learn(total_timesteps=40000) #train the model"
            ]
        },
        {
            "cell_type": "code",
            "execution_count": 77,
            "metadata": {},
            "outputs": [],
            "source": [
                "model.save('PPO')"
            ]
        },
        {
            "cell_type": "code",
            "execution_count": 80,
            "metadata": {},
            "outputs": [
                {
                    "data": {
                        "text/plain": "(11.8, 58.62729739634943)"
                    },
                    "execution_count": 80,
                    "metadata": {},
                    "output_type": "execute_result"
                }
            ],
            "source": [
                "evaluate_policy(model, env, n_eval_episodes=10, render=False) #evaluate environment to find mean and standard deviation"
            ]
        }
    ]
}
