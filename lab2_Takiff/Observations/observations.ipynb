{
    "metadata": {
        "kernelspec": {
            "name": "python3",
            "display_name": "Python 3 (ipykernel)",
            "language": "python"
        }
    },
    "nbformat": 4,
    "nbformat_minor": 2,
    "cells": [
        {
            "attachments": {},
            "cell_type": "markdown",
            "metadata": {},
            "source": [
                "**Describe the problem that you chose to solve. How is it related to the topic that your team will investigate for the Discover AI project?**"
            ]
        },
        {
            "attachments": {},
            "cell_type": "markdown",
            "metadata": {},
            "source": [
                "The project we chose to solve was unsupervised Learning this will be useful for our project because (even if we are not using K-Means algorithm) we will probobly be looking to classify cities into different groups without putting labels on them beforehand. We also will not need to split the data into training and testing data which is good because we may have less rows then your usual dataset"
            ]
        },
        {
            "attachments": {},
            "cell_type": "markdown",
            "metadata": {},
            "source": [
                "**Did you have to clean your dataset? If yes, desribe what you did.**"
            ]
        },
        {
            "attachments": {},
            "cell_type": "markdown",
            "metadata": {},
            "source": [
                "Yes there were multiple problems with our dataset on being our rows sometimes had NaN values stored and additionally some columns had string value which did not help when evaluating our data."
            ]
        },
        {
            "attachments": {},
            "cell_type": "markdown",
            "metadata": {},
            "source": [
                "**Did the program run successfully? If yes, summarise the results, otherwise, describe what went wrong and your attempt(s) to fix it.**"
            ]
        },
        {
            "attachments": {},
            "cell_type": "markdown",
            "metadata": {},
            "source": [
                "The program semi-ran successfully I was able to K-means algorithm 2 variables for cities to check correlation between pollution and life expectancy. However when it came to labeling (graphing) I coule not get the values to show up on the graph unfortunatly. I am pretty sure the naming of the rows in our data lead to this issue since they were spaced out strings with underscores and an error arose even after attempting to rename the column name"
            ]
        },
        {
            "attachments": {},
            "cell_type": "markdown",
            "metadata": {},
            "source": [
                "**Submit the link to your group's github**"
            ]
        },
        {
            "attachments": {},
            "cell_type": "markdown",
            "metadata": {},
            "source": [
                "https://github.com/daztakiff/DiscoverAI_Projects_Group-15-respository.git"
            ]
        },
        {
            "cell_type": "code",
            "execution_count": 0,
            "metadata": {},
            "outputs": [],
            "source": [
                ""
            ]
        }
    ]
}
