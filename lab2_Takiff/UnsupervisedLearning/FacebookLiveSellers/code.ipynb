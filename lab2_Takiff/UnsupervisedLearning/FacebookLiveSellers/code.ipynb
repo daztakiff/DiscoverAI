{
    "metadata": {
        "kernelspec": {
            "name": "python3",
            "display_name": "Python 3 (ipykernel)",
            "language": "python"
        }
    },
    "nbformat": 4,
    "nbformat_minor": 2,
    "cells": [
        {
            "attachments": {},
            "cell_type": "markdown",
            "metadata": {},
            "source": [
                "# **Clustering Facebook Live Sellers**"
            ]
        },
        {
            "attachments": {},
            "cell_type": "markdown",
            "metadata": {},
            "source": [
                "The code below is taken from Prashant Banerjee's submission on [kaggle.com](https://www.kaggle.com/prashant111/k-means-clustering-with-python/notebook).\n",
                "\n",
                "You are encouraged to go to the link above and check out the full code. In this lab, you will do the necessary steps to explore the data and prepare it for sklearn algorithms."
            ]
        },
        {
            "attachments": {},
            "cell_type": "markdown",
            "metadata": {},
            "source": [
                "**About the data set**"
            ]
        },
        {
            "attachments": {},
            "cell_type": "markdown",
            "metadata": {},
            "source": [
                "Live selling is becoming increasingly popular in Asian countries. Small vendors can now reach a wider audience and connect with many customers. \n",
                "\n",
                "K-Means clustering is used to find intrinsic groups within the unlabelled dataset and draw inferences from them. In this kernel, you will implement K-Means clustering to find intrinsic groups within the dataset that display the same status_type behaviour."
            ]
        },
        {
            "attachments": {},
            "cell_type": "markdown",
            "metadata": {},
            "source": [
                "**Import libraries**"
            ]
        },
        {
            "cell_type": "code",
            "execution_count": 4,
            "metadata": {},
            "outputs": [],
            "source": [
                "import numpy as np # linear algebra\n",
                "import pandas as pd # data processing, CSV file I/O (e.g. pd.read_csv)\n",
                "import matplotlib.pyplot as plt # for data visualization\n",
                "import seaborn as sns # for statistical data visualization\n",
                "%matplotlib inline"
            ]
        },
        {
            "attachments": {},
            "cell_type": "markdown",
            "metadata": {},
            "source": [
                "# Acquire data"
            ]
        },
        {
            "cell_type": "code",
            "execution_count": 5,
            "metadata": {},
            "outputs": [
                {
                    "data": {
                        "text/html": "\u003cdiv\u003e\n\u003cstyle scoped\u003e\n    .dataframe tbody tr th:only-of-type {\n        vertical-align: middle;\n    }\n\n    .dataframe tbody tr th {\n        vertical-align: top;\n    }\n\n    .dataframe thead th {\n        text-align: right;\n    }\n\u003c/style\u003e\n\u003ctable border=\"1\" class=\"dataframe\"\u003e\n  \u003cthead\u003e\n    \u003ctr style=\"text-align: right;\"\u003e\n      \u003cth\u003e\u003c/th\u003e\n      \u003cth\u003estatus_id\u003c/th\u003e\n      \u003cth\u003estatus_type\u003c/th\u003e\n      \u003cth\u003estatus_published\u003c/th\u003e\n      \u003cth\u003enum_reactions\u003c/th\u003e\n      \u003cth\u003enum_comments\u003c/th\u003e\n      \u003cth\u003enum_shares\u003c/th\u003e\n      \u003cth\u003enum_likes\u003c/th\u003e\n      \u003cth\u003enum_loves\u003c/th\u003e\n      \u003cth\u003enum_wows\u003c/th\u003e\n      \u003cth\u003enum_hahas\u003c/th\u003e\n      \u003cth\u003enum_sads\u003c/th\u003e\n      \u003cth\u003enum_angrys\u003c/th\u003e\n      \u003cth\u003eColumn1\u003c/th\u003e\n      \u003cth\u003eColumn2\u003c/th\u003e\n      \u003cth\u003eColumn3\u003c/th\u003e\n      \u003cth\u003eColumn4\u003c/th\u003e\n    \u003c/tr\u003e\n  \u003c/thead\u003e\n  \u003ctbody\u003e\n    \u003ctr\u003e\n      \u003cth\u003e0\u003c/th\u003e\n      \u003ctd\u003e246675545449582_1649696485147474\u003c/td\u003e\n      \u003ctd\u003evideo\u003c/td\u003e\n      \u003ctd\u003e4/22/2018 6:00\u003c/td\u003e\n      \u003ctd\u003e529\u003c/td\u003e\n      \u003ctd\u003e512\u003c/td\u003e\n      \u003ctd\u003e262\u003c/td\u003e\n      \u003ctd\u003e432\u003c/td\u003e\n      \u003ctd\u003e92\u003c/td\u003e\n      \u003ctd\u003e3\u003c/td\u003e\n      \u003ctd\u003e1\u003c/td\u003e\n      \u003ctd\u003e1\u003c/td\u003e\n      \u003ctd\u003e0\u003c/td\u003e\n      \u003ctd\u003eNaN\u003c/td\u003e\n      \u003ctd\u003eNaN\u003c/td\u003e\n      \u003ctd\u003eNaN\u003c/td\u003e\n      \u003ctd\u003eNaN\u003c/td\u003e\n    \u003c/tr\u003e\n    \u003ctr\u003e\n      \u003cth\u003e1\u003c/th\u003e\n      \u003ctd\u003e246675545449582_1649426988507757\u003c/td\u003e\n      \u003ctd\u003ephoto\u003c/td\u003e\n      \u003ctd\u003e4/21/2018 22:45\u003c/td\u003e\n      \u003ctd\u003e150\u003c/td\u003e\n      \u003ctd\u003e0\u003c/td\u003e\n      \u003ctd\u003e0\u003c/td\u003e\n      \u003ctd\u003e150\u003c/td\u003e\n      \u003ctd\u003e0\u003c/td\u003e\n      \u003ctd\u003e0\u003c/td\u003e\n      \u003ctd\u003e0\u003c/td\u003e\n      \u003ctd\u003e0\u003c/td\u003e\n      \u003ctd\u003e0\u003c/td\u003e\n      \u003ctd\u003eNaN\u003c/td\u003e\n      \u003ctd\u003eNaN\u003c/td\u003e\n      \u003ctd\u003eNaN\u003c/td\u003e\n      \u003ctd\u003eNaN\u003c/td\u003e\n    \u003c/tr\u003e\n    \u003ctr\u003e\n      \u003cth\u003e2\u003c/th\u003e\n      \u003ctd\u003e246675545449582_1648730588577397\u003c/td\u003e\n      \u003ctd\u003evideo\u003c/td\u003e\n      \u003ctd\u003e4/21/2018 6:17\u003c/td\u003e\n      \u003ctd\u003e227\u003c/td\u003e\n      \u003ctd\u003e236\u003c/td\u003e\n      \u003ctd\u003e57\u003c/td\u003e\n      \u003ctd\u003e204\u003c/td\u003e\n      \u003ctd\u003e21\u003c/td\u003e\n      \u003ctd\u003e1\u003c/td\u003e\n      \u003ctd\u003e1\u003c/td\u003e\n      \u003ctd\u003e0\u003c/td\u003e\n      \u003ctd\u003e0\u003c/td\u003e\n      \u003ctd\u003eNaN\u003c/td\u003e\n      \u003ctd\u003eNaN\u003c/td\u003e\n      \u003ctd\u003eNaN\u003c/td\u003e\n      \u003ctd\u003eNaN\u003c/td\u003e\n    \u003c/tr\u003e\n    \u003ctr\u003e\n      \u003cth\u003e3\u003c/th\u003e\n      \u003ctd\u003e246675545449582_1648576705259452\u003c/td\u003e\n      \u003ctd\u003ephoto\u003c/td\u003e\n      \u003ctd\u003e4/21/2018 2:29\u003c/td\u003e\n      \u003ctd\u003e111\u003c/td\u003e\n      \u003ctd\u003e0\u003c/td\u003e\n      \u003ctd\u003e0\u003c/td\u003e\n      \u003ctd\u003e111\u003c/td\u003e\n      \u003ctd\u003e0\u003c/td\u003e\n      \u003ctd\u003e0\u003c/td\u003e\n      \u003ctd\u003e0\u003c/td\u003e\n      \u003ctd\u003e0\u003c/td\u003e\n      \u003ctd\u003e0\u003c/td\u003e\n      \u003ctd\u003eNaN\u003c/td\u003e\n      \u003ctd\u003eNaN\u003c/td\u003e\n      \u003ctd\u003eNaN\u003c/td\u003e\n      \u003ctd\u003eNaN\u003c/td\u003e\n    \u003c/tr\u003e\n    \u003ctr\u003e\n      \u003cth\u003e4\u003c/th\u003e\n      \u003ctd\u003e246675545449582_1645700502213739\u003c/td\u003e\n      \u003ctd\u003ephoto\u003c/td\u003e\n      \u003ctd\u003e4/18/2018 3:22\u003c/td\u003e\n      \u003ctd\u003e213\u003c/td\u003e\n      \u003ctd\u003e0\u003c/td\u003e\n      \u003ctd\u003e0\u003c/td\u003e\n      \u003ctd\u003e204\u003c/td\u003e\n      \u003ctd\u003e9\u003c/td\u003e\n      \u003ctd\u003e0\u003c/td\u003e\n      \u003ctd\u003e0\u003c/td\u003e\n      \u003ctd\u003e0\u003c/td\u003e\n      \u003ctd\u003e0\u003c/td\u003e\n      \u003ctd\u003eNaN\u003c/td\u003e\n      \u003ctd\u003eNaN\u003c/td\u003e\n      \u003ctd\u003eNaN\u003c/td\u003e\n      \u003ctd\u003eNaN\u003c/td\u003e\n    \u003c/tr\u003e\n  \u003c/tbody\u003e\n\u003c/table\u003e\n\u003c/div\u003e",
                        "text/plain": "                          status_id status_type status_published  \\\n0  246675545449582_1649696485147474       video   4/22/2018 6:00   \n1  246675545449582_1649426988507757       photo  4/21/2018 22:45   \n2  246675545449582_1648730588577397       video   4/21/2018 6:17   \n3  246675545449582_1648576705259452       photo   4/21/2018 2:29   \n4  246675545449582_1645700502213739       photo   4/18/2018 3:22   \n\n   num_reactions  num_comments  num_shares  num_likes  num_loves  num_wows  \\\n0            529           512         262        432         92         3   \n1            150             0           0        150          0         0   \n2            227           236          57        204         21         1   \n3            111             0           0        111          0         0   \n4            213             0           0        204          9         0   \n\n   num_hahas  num_sads  num_angrys  Column1  Column2  Column3  Column4  \n0          1         1           0      NaN      NaN      NaN      NaN  \n1          0         0           0      NaN      NaN      NaN      NaN  \n2          1         0           0      NaN      NaN      NaN      NaN  \n3          0         0           0      NaN      NaN      NaN      NaN  \n4          0         0           0      NaN      NaN      NaN      NaN  "
                    },
                    "execution_count": 5,
                    "metadata": {},
                    "output_type": "execute_result"
                }
            ],
            "source": [
                "df = pd.read_csv('UnsupervisedLearning/FacebookLiveSellers/Live.csv')\n",
                "\n",
                "#TODO: Write code to inspect the first five rows of the data frame\n",
                "df.head()"
            ]
        },
        {
            "attachments": {},
            "cell_type": "markdown",
            "metadata": {},
            "source": [
                "# Inspect data"
            ]
        },
        {
            "cell_type": "code",
            "execution_count": 6,
            "metadata": {},
            "outputs": [
                {
                    "data": {
                        "text/plain": "(7050, 16)"
                    },
                    "execution_count": 6,
                    "metadata": {},
                    "output_type": "execute_result"
                }
            ],
            "source": [
                "#TODO: Write code to inspect the shape of the data frame\n",
                "df.shape"
            ]
        },
        {
            "cell_type": "code",
            "execution_count": 7,
            "metadata": {},
            "outputs": [
                {
                    "data": {
                        "text/html": "\u003cdiv\u003e\n\u003cstyle scoped\u003e\n    .dataframe tbody tr th:only-of-type {\n        vertical-align: middle;\n    }\n\n    .dataframe tbody tr th {\n        vertical-align: top;\n    }\n\n    .dataframe thead th {\n        text-align: right;\n    }\n\u003c/style\u003e\n\u003ctable border=\"1\" class=\"dataframe\"\u003e\n  \u003cthead\u003e\n    \u003ctr style=\"text-align: right;\"\u003e\n      \u003cth\u003e\u003c/th\u003e\n      \u003cth\u003estatus_id\u003c/th\u003e\n      \u003cth\u003estatus_type\u003c/th\u003e\n      \u003cth\u003estatus_published\u003c/th\u003e\n      \u003cth\u003enum_reactions\u003c/th\u003e\n      \u003cth\u003enum_comments\u003c/th\u003e\n      \u003cth\u003enum_shares\u003c/th\u003e\n      \u003cth\u003enum_likes\u003c/th\u003e\n      \u003cth\u003enum_loves\u003c/th\u003e\n      \u003cth\u003enum_wows\u003c/th\u003e\n      \u003cth\u003enum_hahas\u003c/th\u003e\n      \u003cth\u003enum_sads\u003c/th\u003e\n      \u003cth\u003enum_angrys\u003c/th\u003e\n      \u003cth\u003eColumn1\u003c/th\u003e\n      \u003cth\u003eColumn2\u003c/th\u003e\n      \u003cth\u003eColumn3\u003c/th\u003e\n      \u003cth\u003eColumn4\u003c/th\u003e\n    \u003c/tr\u003e\n  \u003c/thead\u003e\n  \u003ctbody\u003e\n    \u003ctr\u003e\n      \u003cth\u003e0\u003c/th\u003e\n      \u003ctd\u003eFalse\u003c/td\u003e\n      \u003ctd\u003eFalse\u003c/td\u003e\n      \u003ctd\u003eFalse\u003c/td\u003e\n      \u003ctd\u003eFalse\u003c/td\u003e\n      \u003ctd\u003eFalse\u003c/td\u003e\n      \u003ctd\u003eFalse\u003c/td\u003e\n      \u003ctd\u003eFalse\u003c/td\u003e\n      \u003ctd\u003eFalse\u003c/td\u003e\n      \u003ctd\u003eFalse\u003c/td\u003e\n      \u003ctd\u003eFalse\u003c/td\u003e\n      \u003ctd\u003eFalse\u003c/td\u003e\n      \u003ctd\u003eFalse\u003c/td\u003e\n      \u003ctd\u003eTrue\u003c/td\u003e\n      \u003ctd\u003eTrue\u003c/td\u003e\n      \u003ctd\u003eTrue\u003c/td\u003e\n      \u003ctd\u003eTrue\u003c/td\u003e\n    \u003c/tr\u003e\n    \u003ctr\u003e\n      \u003cth\u003e1\u003c/th\u003e\n      \u003ctd\u003eFalse\u003c/td\u003e\n      \u003ctd\u003eFalse\u003c/td\u003e\n      \u003ctd\u003eFalse\u003c/td\u003e\n      \u003ctd\u003eFalse\u003c/td\u003e\n      \u003ctd\u003eFalse\u003c/td\u003e\n      \u003ctd\u003eFalse\u003c/td\u003e\n      \u003ctd\u003eFalse\u003c/td\u003e\n      \u003ctd\u003eFalse\u003c/td\u003e\n      \u003ctd\u003eFalse\u003c/td\u003e\n      \u003ctd\u003eFalse\u003c/td\u003e\n      \u003ctd\u003eFalse\u003c/td\u003e\n      \u003ctd\u003eFalse\u003c/td\u003e\n      \u003ctd\u003eTrue\u003c/td\u003e\n      \u003ctd\u003eTrue\u003c/td\u003e\n      \u003ctd\u003eTrue\u003c/td\u003e\n      \u003ctd\u003eTrue\u003c/td\u003e\n    \u003c/tr\u003e\n    \u003ctr\u003e\n      \u003cth\u003e2\u003c/th\u003e\n      \u003ctd\u003eFalse\u003c/td\u003e\n      \u003ctd\u003eFalse\u003c/td\u003e\n      \u003ctd\u003eFalse\u003c/td\u003e\n      \u003ctd\u003eFalse\u003c/td\u003e\n      \u003ctd\u003eFalse\u003c/td\u003e\n      \u003ctd\u003eFalse\u003c/td\u003e\n      \u003ctd\u003eFalse\u003c/td\u003e\n      \u003ctd\u003eFalse\u003c/td\u003e\n      \u003ctd\u003eFalse\u003c/td\u003e\n      \u003ctd\u003eFalse\u003c/td\u003e\n      \u003ctd\u003eFalse\u003c/td\u003e\n      \u003ctd\u003eFalse\u003c/td\u003e\n      \u003ctd\u003eTrue\u003c/td\u003e\n      \u003ctd\u003eTrue\u003c/td\u003e\n      \u003ctd\u003eTrue\u003c/td\u003e\n      \u003ctd\u003eTrue\u003c/td\u003e\n    \u003c/tr\u003e\n    \u003ctr\u003e\n      \u003cth\u003e3\u003c/th\u003e\n      \u003ctd\u003eFalse\u003c/td\u003e\n      \u003ctd\u003eFalse\u003c/td\u003e\n      \u003ctd\u003eFalse\u003c/td\u003e\n      \u003ctd\u003eFalse\u003c/td\u003e\n      \u003ctd\u003eFalse\u003c/td\u003e\n      \u003ctd\u003eFalse\u003c/td\u003e\n      \u003ctd\u003eFalse\u003c/td\u003e\n      \u003ctd\u003eFalse\u003c/td\u003e\n      \u003ctd\u003eFalse\u003c/td\u003e\n      \u003ctd\u003eFalse\u003c/td\u003e\n      \u003ctd\u003eFalse\u003c/td\u003e\n      \u003ctd\u003eFalse\u003c/td\u003e\n      \u003ctd\u003eTrue\u003c/td\u003e\n      \u003ctd\u003eTrue\u003c/td\u003e\n      \u003ctd\u003eTrue\u003c/td\u003e\n      \u003ctd\u003eTrue\u003c/td\u003e\n    \u003c/tr\u003e\n    \u003ctr\u003e\n      \u003cth\u003e4\u003c/th\u003e\n      \u003ctd\u003eFalse\u003c/td\u003e\n      \u003ctd\u003eFalse\u003c/td\u003e\n      \u003ctd\u003eFalse\u003c/td\u003e\n      \u003ctd\u003eFalse\u003c/td\u003e\n      \u003ctd\u003eFalse\u003c/td\u003e\n      \u003ctd\u003eFalse\u003c/td\u003e\n      \u003ctd\u003eFalse\u003c/td\u003e\n      \u003ctd\u003eFalse\u003c/td\u003e\n      \u003ctd\u003eFalse\u003c/td\u003e\n      \u003ctd\u003eFalse\u003c/td\u003e\n      \u003ctd\u003eFalse\u003c/td\u003e\n      \u003ctd\u003eFalse\u003c/td\u003e\n      \u003ctd\u003eTrue\u003c/td\u003e\n      \u003ctd\u003eTrue\u003c/td\u003e\n      \u003ctd\u003eTrue\u003c/td\u003e\n      \u003ctd\u003eTrue\u003c/td\u003e\n    \u003c/tr\u003e\n    \u003ctr\u003e\n      \u003cth\u003e...\u003c/th\u003e\n      \u003ctd\u003e...\u003c/td\u003e\n      \u003ctd\u003e...\u003c/td\u003e\n      \u003ctd\u003e...\u003c/td\u003e\n      \u003ctd\u003e...\u003c/td\u003e\n      \u003ctd\u003e...\u003c/td\u003e\n      \u003ctd\u003e...\u003c/td\u003e\n      \u003ctd\u003e...\u003c/td\u003e\n      \u003ctd\u003e...\u003c/td\u003e\n      \u003ctd\u003e...\u003c/td\u003e\n      \u003ctd\u003e...\u003c/td\u003e\n      \u003ctd\u003e...\u003c/td\u003e\n      \u003ctd\u003e...\u003c/td\u003e\n      \u003ctd\u003e...\u003c/td\u003e\n      \u003ctd\u003e...\u003c/td\u003e\n      \u003ctd\u003e...\u003c/td\u003e\n      \u003ctd\u003e...\u003c/td\u003e\n    \u003c/tr\u003e\n    \u003ctr\u003e\n      \u003cth\u003e7045\u003c/th\u003e\n      \u003ctd\u003eFalse\u003c/td\u003e\n      \u003ctd\u003eFalse\u003c/td\u003e\n      \u003ctd\u003eFalse\u003c/td\u003e\n      \u003ctd\u003eFalse\u003c/td\u003e\n      \u003ctd\u003eFalse\u003c/td\u003e\n      \u003ctd\u003eFalse\u003c/td\u003e\n      \u003ctd\u003eFalse\u003c/td\u003e\n      \u003ctd\u003eFalse\u003c/td\u003e\n      \u003ctd\u003eFalse\u003c/td\u003e\n      \u003ctd\u003eFalse\u003c/td\u003e\n      \u003ctd\u003eFalse\u003c/td\u003e\n      \u003ctd\u003eFalse\u003c/td\u003e\n      \u003ctd\u003eTrue\u003c/td\u003e\n      \u003ctd\u003eTrue\u003c/td\u003e\n      \u003ctd\u003eTrue\u003c/td\u003e\n      \u003ctd\u003eTrue\u003c/td\u003e\n    \u003c/tr\u003e\n    \u003ctr\u003e\n      \u003cth\u003e7046\u003c/th\u003e\n      \u003ctd\u003eFalse\u003c/td\u003e\n      \u003ctd\u003eFalse\u003c/td\u003e\n      \u003ctd\u003eFalse\u003c/td\u003e\n      \u003ctd\u003eFalse\u003c/td\u003e\n      \u003ctd\u003eFalse\u003c/td\u003e\n      \u003ctd\u003eFalse\u003c/td\u003e\n      \u003ctd\u003eFalse\u003c/td\u003e\n      \u003ctd\u003eFalse\u003c/td\u003e\n      \u003ctd\u003eFalse\u003c/td\u003e\n      \u003ctd\u003eFalse\u003c/td\u003e\n      \u003ctd\u003eFalse\u003c/td\u003e\n      \u003ctd\u003eFalse\u003c/td\u003e\n      \u003ctd\u003eTrue\u003c/td\u003e\n      \u003ctd\u003eTrue\u003c/td\u003e\n      \u003ctd\u003eTrue\u003c/td\u003e\n      \u003ctd\u003eTrue\u003c/td\u003e\n    \u003c/tr\u003e\n    \u003ctr\u003e\n      \u003cth\u003e7047\u003c/th\u003e\n      \u003ctd\u003eFalse\u003c/td\u003e\n      \u003ctd\u003eFalse\u003c/td\u003e\n      \u003ctd\u003eFalse\u003c/td\u003e\n      \u003ctd\u003eFalse\u003c/td\u003e\n      \u003ctd\u003eFalse\u003c/td\u003e\n      \u003ctd\u003eFalse\u003c/td\u003e\n      \u003ctd\u003eFalse\u003c/td\u003e\n      \u003ctd\u003eFalse\u003c/td\u003e\n      \u003ctd\u003eFalse\u003c/td\u003e\n      \u003ctd\u003eFalse\u003c/td\u003e\n      \u003ctd\u003eFalse\u003c/td\u003e\n      \u003ctd\u003eFalse\u003c/td\u003e\n      \u003ctd\u003eTrue\u003c/td\u003e\n      \u003ctd\u003eTrue\u003c/td\u003e\n      \u003ctd\u003eTrue\u003c/td\u003e\n      \u003ctd\u003eTrue\u003c/td\u003e\n    \u003c/tr\u003e\n    \u003ctr\u003e\n      \u003cth\u003e7048\u003c/th\u003e\n      \u003ctd\u003eFalse\u003c/td\u003e\n      \u003ctd\u003eFalse\u003c/td\u003e\n      \u003ctd\u003eFalse\u003c/td\u003e\n      \u003ctd\u003eFalse\u003c/td\u003e\n      \u003ctd\u003eFalse\u003c/td\u003e\n      \u003ctd\u003eFalse\u003c/td\u003e\n      \u003ctd\u003eFalse\u003c/td\u003e\n      \u003ctd\u003eFalse\u003c/td\u003e\n      \u003ctd\u003eFalse\u003c/td\u003e\n      \u003ctd\u003eFalse\u003c/td\u003e\n      \u003ctd\u003eFalse\u003c/td\u003e\n      \u003ctd\u003eFalse\u003c/td\u003e\n      \u003ctd\u003eTrue\u003c/td\u003e\n      \u003ctd\u003eTrue\u003c/td\u003e\n      \u003ctd\u003eTrue\u003c/td\u003e\n      \u003ctd\u003eTrue\u003c/td\u003e\n    \u003c/tr\u003e\n    \u003ctr\u003e\n      \u003cth\u003e7049\u003c/th\u003e\n      \u003ctd\u003eFalse\u003c/td\u003e\n      \u003ctd\u003eFalse\u003c/td\u003e\n      \u003ctd\u003eFalse\u003c/td\u003e\n      \u003ctd\u003eFalse\u003c/td\u003e\n      \u003ctd\u003eFalse\u003c/td\u003e\n      \u003ctd\u003eFalse\u003c/td\u003e\n      \u003ctd\u003eFalse\u003c/td\u003e\n      \u003ctd\u003eFalse\u003c/td\u003e\n      \u003ctd\u003eFalse\u003c/td\u003e\n      \u003ctd\u003eFalse\u003c/td\u003e\n      \u003ctd\u003eFalse\u003c/td\u003e\n      \u003ctd\u003eFalse\u003c/td\u003e\n      \u003ctd\u003eTrue\u003c/td\u003e\n      \u003ctd\u003eTrue\u003c/td\u003e\n      \u003ctd\u003eTrue\u003c/td\u003e\n      \u003ctd\u003eTrue\u003c/td\u003e\n    \u003c/tr\u003e\n  \u003c/tbody\u003e\n\u003c/table\u003e\n\u003cp\u003e7050 rows × 16 columns\u003c/p\u003e\n\u003c/div\u003e",
                        "text/plain": "      status_id  status_type  status_published  num_reactions  num_comments  \\\n0         False        False             False          False         False   \n1         False        False             False          False         False   \n2         False        False             False          False         False   \n3         False        False             False          False         False   \n4         False        False             False          False         False   \n...         ...          ...               ...            ...           ...   \n7045      False        False             False          False         False   \n7046      False        False             False          False         False   \n7047      False        False             False          False         False   \n7048      False        False             False          False         False   \n7049      False        False             False          False         False   \n\n      num_shares  num_likes  num_loves  num_wows  num_hahas  num_sads  \\\n0          False      False      False     False      False     False   \n1          False      False      False     False      False     False   \n2          False      False      False     False      False     False   \n3          False      False      False     False      False     False   \n4          False      False      False     False      False     False   \n...          ...        ...        ...       ...        ...       ...   \n7045       False      False      False     False      False     False   \n7046       False      False      False     False      False     False   \n7047       False      False      False     False      False     False   \n7048       False      False      False     False      False     False   \n7049       False      False      False     False      False     False   \n\n      num_angrys  Column1  Column2  Column3  Column4  \n0          False     True     True     True     True  \n1          False     True     True     True     True  \n2          False     True     True     True     True  \n3          False     True     True     True     True  \n4          False     True     True     True     True  \n...          ...      ...      ...      ...      ...  \n7045       False     True     True     True     True  \n7046       False     True     True     True     True  \n7047       False     True     True     True     True  \n7048       False     True     True     True     True  \n7049       False     True     True     True     True  \n\n[7050 rows x 16 columns]"
                    },
                    "execution_count": 7,
                    "metadata": {},
                    "output_type": "execute_result"
                }
            ],
            "source": [
                "#TODO: Write code to get information about null values in the data frame\n",
                "df.isnull().values.any()\n",
                "df.isnull()"
            ]
        },
        {
            "attachments": {},
            "cell_type": "markdown",
            "metadata": {},
            "source": [
                "# Clean data"
            ]
        },
        {
            "cell_type": "code",
            "execution_count": 8,
            "metadata": {},
            "outputs": [],
            "source": [
                "# Drop the four redundant columns in the data set\n",
                "df.drop(['Column1', 'Column2', 'Column3', 'Column4'], \n",
                "axis=1, inplace=True)"
            ]
        },
        {
            "cell_type": "code",
            "execution_count": 9,
            "metadata": {},
            "outputs": [
                {
                    "name": "stdout",
                    "output_type": "stream",
                    "text": "\u003cclass 'pandas.core.frame.DataFrame'\u003e\nRangeIndex: 7050 entries, 0 to 7049\nData columns (total 12 columns):\n #   Column            Non-Null Count  Dtype \n---  ------            --------------  ----- \n 0   status_id         7050 non-null   object\n 1   status_type       7050 non-null   object\n 2   status_published  7050 non-null   object\n 3   num_reactions     7050 non-null   int64 \n 4   num_comments      7050 non-null   int64 \n 5   num_shares        7050 non-null   int64 \n 6   num_likes         7050 non-null   int64 \n 7   num_loves         7050 non-null   int64 \n 8   num_wows          7050 non-null   int64 \n 9   num_hahas         7050 non-null   int64 \n 10  num_sads          7050 non-null   int64 \n 11  num_angrys        7050 non-null   int64 \ndtypes: int64(9), object(3)\nmemory usage: 661.1+ KB\n"
                }
            ],
            "source": [
                "# Check the summary again \n",
                "# to see if there are no redundant columns remaining\n",
                "df.info()"
            ]
        },
        {
            "cell_type": "code",
            "execution_count": 10,
            "metadata": {},
            "outputs": [
                {
                    "data": {
                        "text/html": "\u003cdiv\u003e\n\u003cstyle scoped\u003e\n    .dataframe tbody tr th:only-of-type {\n        vertical-align: middle;\n    }\n\n    .dataframe tbody tr th {\n        vertical-align: top;\n    }\n\n    .dataframe thead th {\n        text-align: right;\n    }\n\u003c/style\u003e\n\u003ctable border=\"1\" class=\"dataframe\"\u003e\n  \u003cthead\u003e\n    \u003ctr style=\"text-align: right;\"\u003e\n      \u003cth\u003e\u003c/th\u003e\n      \u003cth\u003estatus_id\u003c/th\u003e\n      \u003cth\u003estatus_type\u003c/th\u003e\n      \u003cth\u003estatus_published\u003c/th\u003e\n      \u003cth\u003enum_reactions\u003c/th\u003e\n      \u003cth\u003enum_comments\u003c/th\u003e\n      \u003cth\u003enum_shares\u003c/th\u003e\n      \u003cth\u003enum_likes\u003c/th\u003e\n      \u003cth\u003enum_loves\u003c/th\u003e\n      \u003cth\u003enum_wows\u003c/th\u003e\n      \u003cth\u003enum_hahas\u003c/th\u003e\n      \u003cth\u003enum_sads\u003c/th\u003e\n      \u003cth\u003enum_angrys\u003c/th\u003e\n    \u003c/tr\u003e\n  \u003c/thead\u003e\n  \u003ctbody\u003e\n    \u003ctr\u003e\n      \u003cth\u003ecount\u003c/th\u003e\n      \u003ctd\u003e7050\u003c/td\u003e\n      \u003ctd\u003e7050\u003c/td\u003e\n      \u003ctd\u003e7050\u003c/td\u003e\n      \u003ctd\u003e7050.000000\u003c/td\u003e\n      \u003ctd\u003e7050.000000\u003c/td\u003e\n      \u003ctd\u003e7050.000000\u003c/td\u003e\n      \u003ctd\u003e7050.000000\u003c/td\u003e\n      \u003ctd\u003e7050.000000\u003c/td\u003e\n      \u003ctd\u003e7050.000000\u003c/td\u003e\n      \u003ctd\u003e7050.000000\u003c/td\u003e\n      \u003ctd\u003e7050.000000\u003c/td\u003e\n      \u003ctd\u003e7050.000000\u003c/td\u003e\n    \u003c/tr\u003e\n    \u003ctr\u003e\n      \u003cth\u003eunique\u003c/th\u003e\n      \u003ctd\u003e6997\u003c/td\u003e\n      \u003ctd\u003e4\u003c/td\u003e\n      \u003ctd\u003e6913\u003c/td\u003e\n      \u003ctd\u003eNaN\u003c/td\u003e\n      \u003ctd\u003eNaN\u003c/td\u003e\n      \u003ctd\u003eNaN\u003c/td\u003e\n      \u003ctd\u003eNaN\u003c/td\u003e\n      \u003ctd\u003eNaN\u003c/td\u003e\n      \u003ctd\u003eNaN\u003c/td\u003e\n      \u003ctd\u003eNaN\u003c/td\u003e\n      \u003ctd\u003eNaN\u003c/td\u003e\n      \u003ctd\u003eNaN\u003c/td\u003e\n    \u003c/tr\u003e\n    \u003ctr\u003e\n      \u003cth\u003etop\u003c/th\u003e\n      \u003ctd\u003e819700534875473_957599447752247\u003c/td\u003e\n      \u003ctd\u003ephoto\u003c/td\u003e\n      \u003ctd\u003e3/20/2018 1:54\u003c/td\u003e\n      \u003ctd\u003eNaN\u003c/td\u003e\n      \u003ctd\u003eNaN\u003c/td\u003e\n      \u003ctd\u003eNaN\u003c/td\u003e\n      \u003ctd\u003eNaN\u003c/td\u003e\n      \u003ctd\u003eNaN\u003c/td\u003e\n      \u003ctd\u003eNaN\u003c/td\u003e\n      \u003ctd\u003eNaN\u003c/td\u003e\n      \u003ctd\u003eNaN\u003c/td\u003e\n      \u003ctd\u003eNaN\u003c/td\u003e\n    \u003c/tr\u003e\n    \u003ctr\u003e\n      \u003cth\u003efreq\u003c/th\u003e\n      \u003ctd\u003e2\u003c/td\u003e\n      \u003ctd\u003e4288\u003c/td\u003e\n      \u003ctd\u003e3\u003c/td\u003e\n      \u003ctd\u003eNaN\u003c/td\u003e\n      \u003ctd\u003eNaN\u003c/td\u003e\n      \u003ctd\u003eNaN\u003c/td\u003e\n      \u003ctd\u003eNaN\u003c/td\u003e\n      \u003ctd\u003eNaN\u003c/td\u003e\n      \u003ctd\u003eNaN\u003c/td\u003e\n      \u003ctd\u003eNaN\u003c/td\u003e\n      \u003ctd\u003eNaN\u003c/td\u003e\n      \u003ctd\u003eNaN\u003c/td\u003e\n    \u003c/tr\u003e\n    \u003ctr\u003e\n      \u003cth\u003emean\u003c/th\u003e\n      \u003ctd\u003eNaN\u003c/td\u003e\n      \u003ctd\u003eNaN\u003c/td\u003e\n      \u003ctd\u003eNaN\u003c/td\u003e\n      \u003ctd\u003e230.117163\u003c/td\u003e\n      \u003ctd\u003e224.356028\u003c/td\u003e\n      \u003ctd\u003e40.022553\u003c/td\u003e\n      \u003ctd\u003e215.043121\u003c/td\u003e\n      \u003ctd\u003e12.728652\u003c/td\u003e\n      \u003ctd\u003e1.289362\u003c/td\u003e\n      \u003ctd\u003e0.696454\u003c/td\u003e\n      \u003ctd\u003e0.243688\u003c/td\u003e\n      \u003ctd\u003e0.113191\u003c/td\u003e\n    \u003c/tr\u003e\n    \u003ctr\u003e\n      \u003cth\u003estd\u003c/th\u003e\n      \u003ctd\u003eNaN\u003c/td\u003e\n      \u003ctd\u003eNaN\u003c/td\u003e\n      \u003ctd\u003eNaN\u003c/td\u003e\n      \u003ctd\u003e462.625309\u003c/td\u003e\n      \u003ctd\u003e889.636820\u003c/td\u003e\n      \u003ctd\u003e131.599965\u003c/td\u003e\n      \u003ctd\u003e449.472357\u003c/td\u003e\n      \u003ctd\u003e39.972930\u003c/td\u003e\n      \u003ctd\u003e8.719650\u003c/td\u003e\n      \u003ctd\u003e3.957183\u003c/td\u003e\n      \u003ctd\u003e1.597156\u003c/td\u003e\n      \u003ctd\u003e0.726812\u003c/td\u003e\n    \u003c/tr\u003e\n    \u003ctr\u003e\n      \u003cth\u003emin\u003c/th\u003e\n      \u003ctd\u003eNaN\u003c/td\u003e\n      \u003ctd\u003eNaN\u003c/td\u003e\n      \u003ctd\u003eNaN\u003c/td\u003e\n      \u003ctd\u003e0.000000\u003c/td\u003e\n      \u003ctd\u003e0.000000\u003c/td\u003e\n      \u003ctd\u003e0.000000\u003c/td\u003e\n      \u003ctd\u003e0.000000\u003c/td\u003e\n      \u003ctd\u003e0.000000\u003c/td\u003e\n      \u003ctd\u003e0.000000\u003c/td\u003e\n      \u003ctd\u003e0.000000\u003c/td\u003e\n      \u003ctd\u003e0.000000\u003c/td\u003e\n      \u003ctd\u003e0.000000\u003c/td\u003e\n    \u003c/tr\u003e\n    \u003ctr\u003e\n      \u003cth\u003e25%\u003c/th\u003e\n      \u003ctd\u003eNaN\u003c/td\u003e\n      \u003ctd\u003eNaN\u003c/td\u003e\n      \u003ctd\u003eNaN\u003c/td\u003e\n      \u003ctd\u003e17.000000\u003c/td\u003e\n      \u003ctd\u003e0.000000\u003c/td\u003e\n      \u003ctd\u003e0.000000\u003c/td\u003e\n      \u003ctd\u003e17.000000\u003c/td\u003e\n      \u003ctd\u003e0.000000\u003c/td\u003e\n      \u003ctd\u003e0.000000\u003c/td\u003e\n      \u003ctd\u003e0.000000\u003c/td\u003e\n      \u003ctd\u003e0.000000\u003c/td\u003e\n      \u003ctd\u003e0.000000\u003c/td\u003e\n    \u003c/tr\u003e\n    \u003ctr\u003e\n      \u003cth\u003e50%\u003c/th\u003e\n      \u003ctd\u003eNaN\u003c/td\u003e\n      \u003ctd\u003eNaN\u003c/td\u003e\n      \u003ctd\u003eNaN\u003c/td\u003e\n      \u003ctd\u003e59.500000\u003c/td\u003e\n      \u003ctd\u003e4.000000\u003c/td\u003e\n      \u003ctd\u003e0.000000\u003c/td\u003e\n      \u003ctd\u003e58.000000\u003c/td\u003e\n      \u003ctd\u003e0.000000\u003c/td\u003e\n      \u003ctd\u003e0.000000\u003c/td\u003e\n      \u003ctd\u003e0.000000\u003c/td\u003e\n      \u003ctd\u003e0.000000\u003c/td\u003e\n      \u003ctd\u003e0.000000\u003c/td\u003e\n    \u003c/tr\u003e\n    \u003ctr\u003e\n      \u003cth\u003e75%\u003c/th\u003e\n      \u003ctd\u003eNaN\u003c/td\u003e\n      \u003ctd\u003eNaN\u003c/td\u003e\n      \u003ctd\u003eNaN\u003c/td\u003e\n      \u003ctd\u003e219.000000\u003c/td\u003e\n      \u003ctd\u003e23.000000\u003c/td\u003e\n      \u003ctd\u003e4.000000\u003c/td\u003e\n      \u003ctd\u003e184.750000\u003c/td\u003e\n      \u003ctd\u003e3.000000\u003c/td\u003e\n      \u003ctd\u003e0.000000\u003c/td\u003e\n      \u003ctd\u003e0.000000\u003c/td\u003e\n      \u003ctd\u003e0.000000\u003c/td\u003e\n      \u003ctd\u003e0.000000\u003c/td\u003e\n    \u003c/tr\u003e\n    \u003ctr\u003e\n      \u003cth\u003emax\u003c/th\u003e\n      \u003ctd\u003eNaN\u003c/td\u003e\n      \u003ctd\u003eNaN\u003c/td\u003e\n      \u003ctd\u003eNaN\u003c/td\u003e\n      \u003ctd\u003e4710.000000\u003c/td\u003e\n      \u003ctd\u003e20990.000000\u003c/td\u003e\n      \u003ctd\u003e3424.000000\u003c/td\u003e\n      \u003ctd\u003e4710.000000\u003c/td\u003e\n      \u003ctd\u003e657.000000\u003c/td\u003e\n      \u003ctd\u003e278.000000\u003c/td\u003e\n      \u003ctd\u003e157.000000\u003c/td\u003e\n      \u003ctd\u003e51.000000\u003c/td\u003e\n      \u003ctd\u003e31.000000\u003c/td\u003e\n    \u003c/tr\u003e\n  \u003c/tbody\u003e\n\u003c/table\u003e\n\u003c/div\u003e",
                        "text/plain": "                              status_id status_type status_published  \\\ncount                              7050        7050             7050   \nunique                             6997           4             6913   \ntop     819700534875473_957599447752247       photo   3/20/2018 1:54   \nfreq                                  2        4288                3   \nmean                                NaN         NaN              NaN   \nstd                                 NaN         NaN              NaN   \nmin                                 NaN         NaN              NaN   \n25%                                 NaN         NaN              NaN   \n50%                                 NaN         NaN              NaN   \n75%                                 NaN         NaN              NaN   \nmax                                 NaN         NaN              NaN   \n\n        num_reactions  num_comments   num_shares    num_likes    num_loves  \\\ncount     7050.000000   7050.000000  7050.000000  7050.000000  7050.000000   \nunique            NaN           NaN          NaN          NaN          NaN   \ntop               NaN           NaN          NaN          NaN          NaN   \nfreq              NaN           NaN          NaN          NaN          NaN   \nmean       230.117163    224.356028    40.022553   215.043121    12.728652   \nstd        462.625309    889.636820   131.599965   449.472357    39.972930   \nmin          0.000000      0.000000     0.000000     0.000000     0.000000   \n25%         17.000000      0.000000     0.000000    17.000000     0.000000   \n50%         59.500000      4.000000     0.000000    58.000000     0.000000   \n75%        219.000000     23.000000     4.000000   184.750000     3.000000   \nmax       4710.000000  20990.000000  3424.000000  4710.000000   657.000000   \n\n           num_wows    num_hahas     num_sads   num_angrys  \ncount   7050.000000  7050.000000  7050.000000  7050.000000  \nunique          NaN          NaN          NaN          NaN  \ntop             NaN          NaN          NaN          NaN  \nfreq            NaN          NaN          NaN          NaN  \nmean       1.289362     0.696454     0.243688     0.113191  \nstd        8.719650     3.957183     1.597156     0.726812  \nmin        0.000000     0.000000     0.000000     0.000000  \n25%        0.000000     0.000000     0.000000     0.000000  \n50%        0.000000     0.000000     0.000000     0.000000  \n75%        0.000000     0.000000     0.000000     0.000000  \nmax      278.000000   157.000000    51.000000    31.000000  "
                    },
                    "execution_count": 10,
                    "metadata": {},
                    "output_type": "execute_result"
                }
            ],
            "source": [
                "#TODO: Write code to inspect statistical information about the data set\n",
                "df.describe(include=\"all\")"
            ]
        },
        {
            "attachments": {},
            "cell_type": "markdown",
            "metadata": {},
            "source": [
                "Note that there are 3 categorical variables in the dataset. We will explore them one by one"
            ]
        },
        {
            "cell_type": "code",
            "execution_count": 11,
            "metadata": {},
            "outputs": [
                {
                    "data": {
                        "text/plain": "array(['246675545449582_1649696485147474',\n       '246675545449582_1649426988507757',\n       '246675545449582_1648730588577397', ...,\n       '1050855161656896_1060126464063099',\n       '1050855161656896_1058663487542730',\n       '1050855161656896_1050858841656528'], dtype=object)"
                    },
                    "execution_count": 11,
                    "metadata": {},
                    "output_type": "execute_result"
                }
            ],
            "source": [
                "# View the labels in the variable\n",
                "df['status_id'].unique()"
            ]
        },
        {
            "cell_type": "code",
            "execution_count": 12,
            "metadata": {},
            "outputs": [
                {
                    "data": {
                        "text/plain": "6997"
                    },
                    "execution_count": 12,
                    "metadata": {},
                    "output_type": "execute_result"
                }
            ],
            "source": [
                "# View how many different types of variables are there\n",
                "len(df['status_id'].unique())"
            ]
        },
        {
            "cell_type": "code",
            "execution_count": 13,
            "metadata": {},
            "outputs": [
                {
                    "data": {
                        "text/plain": "0        4/22/2018 6:00\n1       4/21/2018 22:45\n2        4/21/2018 6:17\n3        4/21/2018 2:29\n4        4/18/2018 3:22\n             ...       \n7045     9/24/2016 2:58\n7046    9/23/2016 11:19\n7047    9/21/2016 23:03\n7048     9/20/2016 0:43\n7049    9/10/2016 10:30\nName: status_published, Length: 7050, dtype: object"
                    },
                    "execution_count": 13,
                    "metadata": {},
                    "output_type": "execute_result"
                }
            ],
            "source": [
                "#TODO: Write code to view the labels in the variable status_published\n",
                "df[\"status_published\"]"
            ]
        },
        {
            "cell_type": "code",
            "execution_count": 14,
            "metadata": {},
            "outputs": [
                {
                    "data": {
                        "text/plain": "6913"
                    },
                    "execution_count": 14,
                    "metadata": {},
                    "output_type": "execute_result"
                }
            ],
            "source": [
                "#TODO: write code to view how many different types of variables \n",
                "# there are in status_published\n",
                "df[\"status_published\"].nunique()"
            ]
        },
        {
            "cell_type": "code",
            "execution_count": 15,
            "metadata": {},
            "outputs": [
                {
                    "data": {
                        "text/plain": "0       video\n1       photo\n2       video\n3       photo\n4       photo\n        ...  \n7045    photo\n7046    photo\n7047    photo\n7048    photo\n7049    photo\nName: status_type, Length: 7050, dtype: object"
                    },
                    "execution_count": 15,
                    "metadata": {},
                    "output_type": "execute_result"
                }
            ],
            "source": [
                "#TODO: Write code to view the labels in the variable status_type\n",
                "df[\"status_type\"]"
            ]
        },
        {
            "cell_type": "code",
            "execution_count": 16,
            "metadata": {},
            "outputs": [
                {
                    "data": {
                        "text/plain": "4"
                    },
                    "execution_count": 16,
                    "metadata": {},
                    "output_type": "execute_result"
                }
            ],
            "source": [
                "#TODO: write code to view how many different types of variables \n",
                "# there are in status_type\n",
                "df[\"status_type\"].nunique()"
            ]
        },
        {
            "attachments": {},
            "cell_type": "markdown",
            "metadata": {},
            "source": [
                "From the above inspection, we realize that there are 6997 unique labels in the status_id variable and 6913 unique labels in the status_published variable. \n",
                "\n",
                "The total number of instances in the dataset is 7050, which means that these two variables are approximately unique identifiers for each of the instances. Thus these are not variables that we can use, and we should drop them."
            ]
        },
        {
            "cell_type": "code",
            "execution_count": 17,
            "metadata": {},
            "outputs": [
                {
                    "name": "stderr",
                    "output_type": "stream",
                    "text": "/tmp/ipykernel_127/874560877.py:2: FutureWarning: In a future version of pandas all arguments of DataFrame.drop except for the argument 'labels' will be keyword-only.\n  df = df.drop(\"status_published\", 1)\n/tmp/ipykernel_127/874560877.py:3: FutureWarning: In a future version of pandas all arguments of DataFrame.drop except for the argument 'labels' will be keyword-only.\n  df = df.drop(\"status_id\", 1)\n"
                }
            ],
            "source": [
                "#TODO: Write code to drop status_id and status_published\n",
                "df = df.drop(\"status_published\", 1)\n",
                "df = df.drop(\"status_id\", 1)"
            ]
        },
        {
            "cell_type": "code",
            "execution_count": 18,
            "metadata": {},
            "outputs": [
                {
                    "name": "stdout",
                    "output_type": "stream",
                    "text": "\u003cclass 'pandas.core.frame.DataFrame'\u003e\nRangeIndex: 7050 entries, 0 to 7049\nData columns (total 10 columns):\n #   Column         Non-Null Count  Dtype \n---  ------         --------------  ----- \n 0   status_type    7050 non-null   object\n 1   num_reactions  7050 non-null   int64 \n 2   num_comments   7050 non-null   int64 \n 3   num_shares     7050 non-null   int64 \n 4   num_likes      7050 non-null   int64 \n 5   num_loves      7050 non-null   int64 \n 6   num_wows       7050 non-null   int64 \n 7   num_hahas      7050 non-null   int64 \n 8   num_sads       7050 non-null   int64 \n 9   num_angrys     7050 non-null   int64 \ndtypes: int64(9), object(1)\nmemory usage: 550.9+ KB\n"
                }
            ],
            "source": [
                "# View a summary of the data set again\n",
                "df.info()"
            ]
        },
        {
            "cell_type": "code",
            "execution_count": 19,
            "metadata": {},
            "outputs": [
                {
                    "data": {
                        "text/html": "\u003cdiv\u003e\n\u003cstyle scoped\u003e\n    .dataframe tbody tr th:only-of-type {\n        vertical-align: middle;\n    }\n\n    .dataframe tbody tr th {\n        vertical-align: top;\n    }\n\n    .dataframe thead th {\n        text-align: right;\n    }\n\u003c/style\u003e\n\u003ctable border=\"1\" class=\"dataframe\"\u003e\n  \u003cthead\u003e\n    \u003ctr style=\"text-align: right;\"\u003e\n      \u003cth\u003e\u003c/th\u003e\n      \u003cth\u003estatus_type\u003c/th\u003e\n      \u003cth\u003enum_reactions\u003c/th\u003e\n      \u003cth\u003enum_comments\u003c/th\u003e\n      \u003cth\u003enum_shares\u003c/th\u003e\n      \u003cth\u003enum_likes\u003c/th\u003e\n      \u003cth\u003enum_loves\u003c/th\u003e\n      \u003cth\u003enum_wows\u003c/th\u003e\n      \u003cth\u003enum_hahas\u003c/th\u003e\n      \u003cth\u003enum_sads\u003c/th\u003e\n      \u003cth\u003enum_angrys\u003c/th\u003e\n    \u003c/tr\u003e\n  \u003c/thead\u003e\n  \u003ctbody\u003e\n    \u003ctr\u003e\n      \u003cth\u003e0\u003c/th\u003e\n      \u003ctd\u003evideo\u003c/td\u003e\n      \u003ctd\u003e529\u003c/td\u003e\n      \u003ctd\u003e512\u003c/td\u003e\n      \u003ctd\u003e262\u003c/td\u003e\n      \u003ctd\u003e432\u003c/td\u003e\n      \u003ctd\u003e92\u003c/td\u003e\n      \u003ctd\u003e3\u003c/td\u003e\n      \u003ctd\u003e1\u003c/td\u003e\n      \u003ctd\u003e1\u003c/td\u003e\n      \u003ctd\u003e0\u003c/td\u003e\n    \u003c/tr\u003e\n    \u003ctr\u003e\n      \u003cth\u003e1\u003c/th\u003e\n      \u003ctd\u003ephoto\u003c/td\u003e\n      \u003ctd\u003e150\u003c/td\u003e\n      \u003ctd\u003e0\u003c/td\u003e\n      \u003ctd\u003e0\u003c/td\u003e\n      \u003ctd\u003e150\u003c/td\u003e\n      \u003ctd\u003e0\u003c/td\u003e\n      \u003ctd\u003e0\u003c/td\u003e\n      \u003ctd\u003e0\u003c/td\u003e\n      \u003ctd\u003e0\u003c/td\u003e\n      \u003ctd\u003e0\u003c/td\u003e\n    \u003c/tr\u003e\n    \u003ctr\u003e\n      \u003cth\u003e2\u003c/th\u003e\n      \u003ctd\u003evideo\u003c/td\u003e\n      \u003ctd\u003e227\u003c/td\u003e\n      \u003ctd\u003e236\u003c/td\u003e\n      \u003ctd\u003e57\u003c/td\u003e\n      \u003ctd\u003e204\u003c/td\u003e\n      \u003ctd\u003e21\u003c/td\u003e\n      \u003ctd\u003e1\u003c/td\u003e\n      \u003ctd\u003e1\u003c/td\u003e\n      \u003ctd\u003e0\u003c/td\u003e\n      \u003ctd\u003e0\u003c/td\u003e\n    \u003c/tr\u003e\n    \u003ctr\u003e\n      \u003cth\u003e3\u003c/th\u003e\n      \u003ctd\u003ephoto\u003c/td\u003e\n      \u003ctd\u003e111\u003c/td\u003e\n      \u003ctd\u003e0\u003c/td\u003e\n      \u003ctd\u003e0\u003c/td\u003e\n      \u003ctd\u003e111\u003c/td\u003e\n      \u003ctd\u003e0\u003c/td\u003e\n      \u003ctd\u003e0\u003c/td\u003e\n      \u003ctd\u003e0\u003c/td\u003e\n      \u003ctd\u003e0\u003c/td\u003e\n      \u003ctd\u003e0\u003c/td\u003e\n    \u003c/tr\u003e\n    \u003ctr\u003e\n      \u003cth\u003e4\u003c/th\u003e\n      \u003ctd\u003ephoto\u003c/td\u003e\n      \u003ctd\u003e213\u003c/td\u003e\n      \u003ctd\u003e0\u003c/td\u003e\n      \u003ctd\u003e0\u003c/td\u003e\n      \u003ctd\u003e204\u003c/td\u003e\n      \u003ctd\u003e9\u003c/td\u003e\n      \u003ctd\u003e0\u003c/td\u003e\n      \u003ctd\u003e0\u003c/td\u003e\n      \u003ctd\u003e0\u003c/td\u003e\n      \u003ctd\u003e0\u003c/td\u003e\n    \u003c/tr\u003e\n  \u003c/tbody\u003e\n\u003c/table\u003e\n\u003c/div\u003e",
                        "text/plain": "  status_type  num_reactions  num_comments  num_shares  num_likes  num_loves  \\\n0       video            529           512         262        432         92   \n1       photo            150             0           0        150          0   \n2       video            227           236          57        204         21   \n3       photo            111             0           0        111          0   \n4       photo            213             0           0        204          9   \n\n   num_wows  num_hahas  num_sads  num_angrys  \n0         3          1         1           0  \n1         0          0         0           0  \n2         1          1         0           0  \n3         0          0         0           0  \n4         0          0         0           0  "
                    },
                    "execution_count": 19,
                    "metadata": {},
                    "output_type": "execute_result"
                }
            ],
            "source": [
                "#TODO: Write code to inspect the first five rows of the data frame\n",
                "df.head()"
            ]
        },
        {
            "attachments": {},
            "cell_type": "markdown",
            "metadata": {},
            "source": [
                "**Converting**"
            ]
        },
        {
            "attachments": {},
            "cell_type": "markdown",
            "metadata": {},
            "source": [
                "There is 1 non-numeric column status_type in the dataset. We will convert it into integer equivalents."
            ]
        },
        {
            "cell_type": "code",
            "execution_count": 20,
            "metadata": {},
            "outputs": [],
            "source": [
                "from sklearn.preprocessing import LabelEncoder\n",
                "\n",
                "# Split the data set into X and y\n",
                "\n",
                "X = df\n",
                "\n",
                "y = df['status_type']\n",
                "\n",
                "le = LabelEncoder()\n",
                "\n",
                "X['status_type'] = le.fit_transform(X['status_type'])\n",
                "\n",
                "y = le.transform(y)"
            ]
        },
        {
            "attachments": {},
            "cell_type": "markdown",
            "metadata": {},
            "source": [
                "Inspect X "
            ]
        },
        {
            "cell_type": "code",
            "execution_count": 21,
            "metadata": {},
            "outputs": [
                {
                    "data": {
                        "text/html": "\u003cdiv\u003e\n\u003cstyle scoped\u003e\n    .dataframe tbody tr th:only-of-type {\n        vertical-align: middle;\n    }\n\n    .dataframe tbody tr th {\n        vertical-align: top;\n    }\n\n    .dataframe thead th {\n        text-align: right;\n    }\n\u003c/style\u003e\n\u003ctable border=\"1\" class=\"dataframe\"\u003e\n  \u003cthead\u003e\n    \u003ctr style=\"text-align: right;\"\u003e\n      \u003cth\u003e\u003c/th\u003e\n      \u003cth\u003estatus_type\u003c/th\u003e\n      \u003cth\u003enum_reactions\u003c/th\u003e\n      \u003cth\u003enum_comments\u003c/th\u003e\n      \u003cth\u003enum_shares\u003c/th\u003e\n      \u003cth\u003enum_likes\u003c/th\u003e\n      \u003cth\u003enum_loves\u003c/th\u003e\n      \u003cth\u003enum_wows\u003c/th\u003e\n      \u003cth\u003enum_hahas\u003c/th\u003e\n      \u003cth\u003enum_sads\u003c/th\u003e\n      \u003cth\u003enum_angrys\u003c/th\u003e\n    \u003c/tr\u003e\n  \u003c/thead\u003e\n  \u003ctbody\u003e\n    \u003ctr\u003e\n      \u003cth\u003e0\u003c/th\u003e\n      \u003ctd\u003e3\u003c/td\u003e\n      \u003ctd\u003e529\u003c/td\u003e\n      \u003ctd\u003e512\u003c/td\u003e\n      \u003ctd\u003e262\u003c/td\u003e\n      \u003ctd\u003e432\u003c/td\u003e\n      \u003ctd\u003e92\u003c/td\u003e\n      \u003ctd\u003e3\u003c/td\u003e\n      \u003ctd\u003e1\u003c/td\u003e\n      \u003ctd\u003e1\u003c/td\u003e\n      \u003ctd\u003e0\u003c/td\u003e\n    \u003c/tr\u003e\n    \u003ctr\u003e\n      \u003cth\u003e1\u003c/th\u003e\n      \u003ctd\u003e1\u003c/td\u003e\n      \u003ctd\u003e150\u003c/td\u003e\n      \u003ctd\u003e0\u003c/td\u003e\n      \u003ctd\u003e0\u003c/td\u003e\n      \u003ctd\u003e150\u003c/td\u003e\n      \u003ctd\u003e0\u003c/td\u003e\n      \u003ctd\u003e0\u003c/td\u003e\n      \u003ctd\u003e0\u003c/td\u003e\n      \u003ctd\u003e0\u003c/td\u003e\n      \u003ctd\u003e0\u003c/td\u003e\n    \u003c/tr\u003e\n    \u003ctr\u003e\n      \u003cth\u003e2\u003c/th\u003e\n      \u003ctd\u003e3\u003c/td\u003e\n      \u003ctd\u003e227\u003c/td\u003e\n      \u003ctd\u003e236\u003c/td\u003e\n      \u003ctd\u003e57\u003c/td\u003e\n      \u003ctd\u003e204\u003c/td\u003e\n      \u003ctd\u003e21\u003c/td\u003e\n      \u003ctd\u003e1\u003c/td\u003e\n      \u003ctd\u003e1\u003c/td\u003e\n      \u003ctd\u003e0\u003c/td\u003e\n      \u003ctd\u003e0\u003c/td\u003e\n    \u003c/tr\u003e\n    \u003ctr\u003e\n      \u003cth\u003e3\u003c/th\u003e\n      \u003ctd\u003e1\u003c/td\u003e\n      \u003ctd\u003e111\u003c/td\u003e\n      \u003ctd\u003e0\u003c/td\u003e\n      \u003ctd\u003e0\u003c/td\u003e\n      \u003ctd\u003e111\u003c/td\u003e\n      \u003ctd\u003e0\u003c/td\u003e\n      \u003ctd\u003e0\u003c/td\u003e\n      \u003ctd\u003e0\u003c/td\u003e\n      \u003ctd\u003e0\u003c/td\u003e\n      \u003ctd\u003e0\u003c/td\u003e\n    \u003c/tr\u003e\n    \u003ctr\u003e\n      \u003cth\u003e4\u003c/th\u003e\n      \u003ctd\u003e1\u003c/td\u003e\n      \u003ctd\u003e213\u003c/td\u003e\n      \u003ctd\u003e0\u003c/td\u003e\n      \u003ctd\u003e0\u003c/td\u003e\n      \u003ctd\u003e204\u003c/td\u003e\n      \u003ctd\u003e9\u003c/td\u003e\n      \u003ctd\u003e0\u003c/td\u003e\n      \u003ctd\u003e0\u003c/td\u003e\n      \u003ctd\u003e0\u003c/td\u003e\n      \u003ctd\u003e0\u003c/td\u003e\n    \u003c/tr\u003e\n  \u003c/tbody\u003e\n\u003c/table\u003e\n\u003c/div\u003e",
                        "text/plain": "   status_type  num_reactions  num_comments  num_shares  num_likes  num_loves  \\\n0            3            529           512         262        432         92   \n1            1            150             0           0        150          0   \n2            3            227           236          57        204         21   \n3            1            111             0           0        111          0   \n4            1            213             0           0        204          9   \n\n   num_wows  num_hahas  num_sads  num_angrys  \n0         3          1         1           0  \n1         0          0         0           0  \n2         1          1         0           0  \n3         0          0         0           0  \n4         0          0         0           0  "
                    },
                    "execution_count": 21,
                    "metadata": {},
                    "output_type": "execute_result"
                }
            ],
            "source": [
                "X.head()"
            ]
        },
        {
            "attachments": {},
            "cell_type": "markdown",
            "metadata": {},
            "source": [
                "**Feature Scaling**"
            ]
        },
        {
            "cell_type": "code",
            "execution_count": 22,
            "metadata": {},
            "outputs": [
                {
                    "data": {
                        "text/html": "\u003cdiv\u003e\n\u003cstyle scoped\u003e\n    .dataframe tbody tr th:only-of-type {\n        vertical-align: middle;\n    }\n\n    .dataframe tbody tr th {\n        vertical-align: top;\n    }\n\n    .dataframe thead tr th {\n        text-align: left;\n    }\n\u003c/style\u003e\n\u003ctable border=\"1\" class=\"dataframe\"\u003e\n  \u003cthead\u003e\n    \u003ctr\u003e\n      \u003cth\u003e\u003c/th\u003e\n      \u003cth\u003estatus_type\u003c/th\u003e\n      \u003cth\u003enum_reactions\u003c/th\u003e\n      \u003cth\u003enum_comments\u003c/th\u003e\n      \u003cth\u003enum_shares\u003c/th\u003e\n      \u003cth\u003enum_likes\u003c/th\u003e\n      \u003cth\u003enum_loves\u003c/th\u003e\n      \u003cth\u003enum_wows\u003c/th\u003e\n      \u003cth\u003enum_hahas\u003c/th\u003e\n      \u003cth\u003enum_sads\u003c/th\u003e\n      \u003cth\u003enum_angrys\u003c/th\u003e\n    \u003c/tr\u003e\n  \u003c/thead\u003e\n  \u003ctbody\u003e\n    \u003ctr\u003e\n      \u003cth\u003e0\u003c/th\u003e\n      \u003ctd\u003e1.000000\u003c/td\u003e\n      \u003ctd\u003e0.112314\u003c/td\u003e\n      \u003ctd\u003e0.024393\u003c/td\u003e\n      \u003ctd\u003e0.076519\u003c/td\u003e\n      \u003ctd\u003e0.091720\u003c/td\u003e\n      \u003ctd\u003e0.140030\u003c/td\u003e\n      \u003ctd\u003e0.010791\u003c/td\u003e\n      \u003ctd\u003e0.006369\u003c/td\u003e\n      \u003ctd\u003e0.019608\u003c/td\u003e\n      \u003ctd\u003e0.0\u003c/td\u003e\n    \u003c/tr\u003e\n    \u003ctr\u003e\n      \u003cth\u003e1\u003c/th\u003e\n      \u003ctd\u003e0.333333\u003c/td\u003e\n      \u003ctd\u003e0.031847\u003c/td\u003e\n      \u003ctd\u003e0.000000\u003c/td\u003e\n      \u003ctd\u003e0.000000\u003c/td\u003e\n      \u003ctd\u003e0.031847\u003c/td\u003e\n      \u003ctd\u003e0.000000\u003c/td\u003e\n      \u003ctd\u003e0.000000\u003c/td\u003e\n      \u003ctd\u003e0.000000\u003c/td\u003e\n      \u003ctd\u003e0.000000\u003c/td\u003e\n      \u003ctd\u003e0.0\u003c/td\u003e\n    \u003c/tr\u003e\n    \u003ctr\u003e\n      \u003cth\u003e2\u003c/th\u003e\n      \u003ctd\u003e1.000000\u003c/td\u003e\n      \u003ctd\u003e0.048195\u003c/td\u003e\n      \u003ctd\u003e0.011243\u003c/td\u003e\n      \u003ctd\u003e0.016647\u003c/td\u003e\n      \u003ctd\u003e0.043312\u003c/td\u003e\n      \u003ctd\u003e0.031963\u003c/td\u003e\n      \u003ctd\u003e0.003597\u003c/td\u003e\n      \u003ctd\u003e0.006369\u003c/td\u003e\n      \u003ctd\u003e0.000000\u003c/td\u003e\n      \u003ctd\u003e0.0\u003c/td\u003e\n    \u003c/tr\u003e\n    \u003ctr\u003e\n      \u003cth\u003e3\u003c/th\u003e\n      \u003ctd\u003e0.333333\u003c/td\u003e\n      \u003ctd\u003e0.023567\u003c/td\u003e\n      \u003ctd\u003e0.000000\u003c/td\u003e\n      \u003ctd\u003e0.000000\u003c/td\u003e\n      \u003ctd\u003e0.023567\u003c/td\u003e\n      \u003ctd\u003e0.000000\u003c/td\u003e\n      \u003ctd\u003e0.000000\u003c/td\u003e\n      \u003ctd\u003e0.000000\u003c/td\u003e\n      \u003ctd\u003e0.000000\u003c/td\u003e\n      \u003ctd\u003e0.0\u003c/td\u003e\n    \u003c/tr\u003e\n    \u003ctr\u003e\n      \u003cth\u003e4\u003c/th\u003e\n      \u003ctd\u003e0.333333\u003c/td\u003e\n      \u003ctd\u003e0.045223\u003c/td\u003e\n      \u003ctd\u003e0.000000\u003c/td\u003e\n      \u003ctd\u003e0.000000\u003c/td\u003e\n      \u003ctd\u003e0.043312\u003c/td\u003e\n      \u003ctd\u003e0.013699\u003c/td\u003e\n      \u003ctd\u003e0.000000\u003c/td\u003e\n      \u003ctd\u003e0.000000\u003c/td\u003e\n      \u003ctd\u003e0.000000\u003c/td\u003e\n      \u003ctd\u003e0.0\u003c/td\u003e\n    \u003c/tr\u003e\n    \u003ctr\u003e\n      \u003cth\u003e...\u003c/th\u003e\n      \u003ctd\u003e...\u003c/td\u003e\n      \u003ctd\u003e...\u003c/td\u003e\n      \u003ctd\u003e...\u003c/td\u003e\n      \u003ctd\u003e...\u003c/td\u003e\n      \u003ctd\u003e...\u003c/td\u003e\n      \u003ctd\u003e...\u003c/td\u003e\n      \u003ctd\u003e...\u003c/td\u003e\n      \u003ctd\u003e...\u003c/td\u003e\n      \u003ctd\u003e...\u003c/td\u003e\n      \u003ctd\u003e...\u003c/td\u003e\n    \u003c/tr\u003e\n    \u003ctr\u003e\n      \u003cth\u003e7045\u003c/th\u003e\n      \u003ctd\u003e0.333333\u003c/td\u003e\n      \u003ctd\u003e0.018896\u003c/td\u003e\n      \u003ctd\u003e0.000000\u003c/td\u003e\n      \u003ctd\u003e0.000000\u003c/td\u003e\n      \u003ctd\u003e0.018896\u003c/td\u003e\n      \u003ctd\u003e0.000000\u003c/td\u003e\n      \u003ctd\u003e0.000000\u003c/td\u003e\n      \u003ctd\u003e0.000000\u003c/td\u003e\n      \u003ctd\u003e0.000000\u003c/td\u003e\n      \u003ctd\u003e0.0\u003c/td\u003e\n    \u003c/tr\u003e\n    \u003ctr\u003e\n      \u003cth\u003e7046\u003c/th\u003e\n      \u003ctd\u003e0.333333\u003c/td\u003e\n      \u003ctd\u003e0.003397\u003c/td\u003e\n      \u003ctd\u003e0.000000\u003c/td\u003e\n      \u003ctd\u003e0.000000\u003c/td\u003e\n      \u003ctd\u003e0.002972\u003c/td\u003e\n      \u003ctd\u003e0.001522\u003c/td\u003e\n      \u003ctd\u003e0.000000\u003c/td\u003e\n      \u003ctd\u003e0.006369\u003c/td\u003e\n      \u003ctd\u003e0.000000\u003c/td\u003e\n      \u003ctd\u003e0.0\u003c/td\u003e\n    \u003c/tr\u003e\n    \u003ctr\u003e\n      \u003cth\u003e7047\u003c/th\u003e\n      \u003ctd\u003e0.333333\u003c/td\u003e\n      \u003ctd\u003e0.000425\u003c/td\u003e\n      \u003ctd\u003e0.000000\u003c/td\u003e\n      \u003ctd\u003e0.000000\u003c/td\u003e\n      \u003ctd\u003e0.000212\u003c/td\u003e\n      \u003ctd\u003e0.001522\u003c/td\u003e\n      \u003ctd\u003e0.000000\u003c/td\u003e\n      \u003ctd\u003e0.000000\u003c/td\u003e\n      \u003ctd\u003e0.000000\u003c/td\u003e\n      \u003ctd\u003e0.0\u003c/td\u003e\n    \u003c/tr\u003e\n    \u003ctr\u003e\n      \u003cth\u003e7048\u003c/th\u003e\n      \u003ctd\u003e0.333333\u003c/td\u003e\n      \u003ctd\u003e0.074522\u003c/td\u003e\n      \u003ctd\u003e0.000572\u003c/td\u003e\n      \u003ctd\u003e0.006425\u003c/td\u003e\n      \u003ctd\u003e0.074098\u003c/td\u003e\n      \u003ctd\u003e0.003044\u003c/td\u003e\n      \u003ctd\u003e0.000000\u003c/td\u003e\n      \u003ctd\u003e0.000000\u003c/td\u003e\n      \u003ctd\u003e0.000000\u003c/td\u003e\n      \u003ctd\u003e0.0\u003c/td\u003e\n    \u003c/tr\u003e\n    \u003ctr\u003e\n      \u003cth\u003e7049\u003c/th\u003e\n      \u003ctd\u003e0.333333\u003c/td\u003e\n      \u003ctd\u003e0.003609\u003c/td\u003e\n      \u003ctd\u003e0.000000\u003c/td\u003e\n      \u003ctd\u003e0.000000\u003c/td\u003e\n      \u003ctd\u003e0.003609\u003c/td\u003e\n      \u003ctd\u003e0.000000\u003c/td\u003e\n      \u003ctd\u003e0.000000\u003c/td\u003e\n      \u003ctd\u003e0.000000\u003c/td\u003e\n      \u003ctd\u003e0.000000\u003c/td\u003e\n      \u003ctd\u003e0.0\u003c/td\u003e\n    \u003c/tr\u003e\n  \u003c/tbody\u003e\n\u003c/table\u003e\n\u003cp\u003e7050 rows × 10 columns\u003c/p\u003e\n\u003c/div\u003e",
                        "text/plain": "     status_type num_reactions num_comments num_shares num_likes num_loves  \\\n0       1.000000      0.112314     0.024393   0.076519  0.091720  0.140030   \n1       0.333333      0.031847     0.000000   0.000000  0.031847  0.000000   \n2       1.000000      0.048195     0.011243   0.016647  0.043312  0.031963   \n3       0.333333      0.023567     0.000000   0.000000  0.023567  0.000000   \n4       0.333333      0.045223     0.000000   0.000000  0.043312  0.013699   \n...          ...           ...          ...        ...       ...       ...   \n7045    0.333333      0.018896     0.000000   0.000000  0.018896  0.000000   \n7046    0.333333      0.003397     0.000000   0.000000  0.002972  0.001522   \n7047    0.333333      0.000425     0.000000   0.000000  0.000212  0.001522   \n7048    0.333333      0.074522     0.000572   0.006425  0.074098  0.003044   \n7049    0.333333      0.003609     0.000000   0.000000  0.003609  0.000000   \n\n      num_wows num_hahas  num_sads num_angrys  \n0     0.010791  0.006369  0.019608        0.0  \n1     0.000000  0.000000  0.000000        0.0  \n2     0.003597  0.006369  0.000000        0.0  \n3     0.000000  0.000000  0.000000        0.0  \n4     0.000000  0.000000  0.000000        0.0  \n...        ...       ...       ...        ...  \n7045  0.000000  0.000000  0.000000        0.0  \n7046  0.000000  0.006369  0.000000        0.0  \n7047  0.000000  0.000000  0.000000        0.0  \n7048  0.000000  0.000000  0.000000        0.0  \n7049  0.000000  0.000000  0.000000        0.0  \n\n[7050 rows x 10 columns]"
                    },
                    "execution_count": 22,
                    "metadata": {},
                    "output_type": "execute_result"
                }
            ],
            "source": [
                "# Like in lab 1, use the MinMax scaler to scale values for better accuracy.\n",
                "\n",
                "from sklearn.preprocessing import MinMaxScaler\n",
                "cols = X.columns\n",
                "ms = MinMaxScaler()\n",
                "\n",
                "X = ms.fit_transform(X)\n",
                "X = pd.DataFrame(X, columns=[cols])\n",
                "\n",
                "#just something I wanted to see\n",
                "X"
            ]
        },
        {
            "attachments": {},
            "cell_type": "markdown",
            "metadata": {},
            "source": [
                "# Earn Your Wings"
            ]
        },
        {
            "attachments": {},
            "cell_type": "markdown",
            "metadata": {},
            "source": [
                "Implement a K-Means Clustering algorithm on the cleaned data set. Use the elbow method to find the right value of k to use.\n",
                "Add comments in your code to explain each step that you take in your implementation."
            ]
        },
        {
            "cell_type": "code",
            "execution_count": 29,
            "metadata": {},
            "outputs": [
                {
                    "name": "stderr",
                    "output_type": "stream",
                    "text": "/usr/lib/python3.10/site-packages/sklearn/utils/validation.py:1688: FutureWarning: Feature names only support names that are all strings. Got feature names with dtypes: ['tuple']. An error will be raised in 1.2.\n  warnings.warn(\n/usr/lib/python3.10/site-packages/sklearn/utils/validation.py:1688: FutureWarning: Feature names only support names that are all strings. Got feature names with dtypes: ['tuple']. An error will be raised in 1.2.\n  warnings.warn(\n/usr/lib/python3.10/site-packages/sklearn/utils/validation.py:1688: FutureWarning: Feature names only support names that are all strings. Got feature names with dtypes: ['tuple']. An error will be raised in 1.2.\n  warnings.warn(\n/usr/lib/python3.10/site-packages/sklearn/utils/validation.py:1688: FutureWarning: Feature names only support names that are all strings. Got feature names with dtypes: ['tuple']. An error will be raised in 1.2.\n  warnings.warn(\n/usr/lib/python3.10/site-packages/sklearn/utils/validation.py:1688: FutureWarning: Feature names only support names that are all strings. Got feature names with dtypes: ['tuple']. An error will be raised in 1.2.\n  warnings.warn(\n/usr/lib/python3.10/site-packages/sklearn/utils/validation.py:1688: FutureWarning: Feature names only support names that are all strings. Got feature names with dtypes: ['tuple']. An error will be raised in 1.2.\n  warnings.warn(\n/usr/lib/python3.10/site-packages/sklearn/utils/validation.py:1688: FutureWarning: Feature names only support names that are all strings. Got feature names with dtypes: ['tuple']. An error will be raised in 1.2.\n  warnings.warn(\n/usr/lib/python3.10/site-packages/sklearn/utils/validation.py:1688: FutureWarning: Feature names only support names that are all strings. Got feature names with dtypes: ['tuple']. An error will be raised in 1.2.\n  warnings.warn(\n/usr/lib/python3.10/site-packages/sklearn/utils/validation.py:1688: FutureWarning: Feature names only support names that are all strings. Got feature names with dtypes: ['tuple']. An error will be raised in 1.2.\n  warnings.warn(\n"
                },
                {
                    "data": {
                        "text/plain": "[\u003cmatplotlib.lines.Line2D at 0x7fec85fed2a0\u003e]"
                    },
                    "execution_count": 29,
                    "metadata": {},
                    "output_type": "execute_result"
                },
                {
                    "data": {
                        "image/png": "[encoded data removed]",
                        "text/plain": "\u003cFigure size 432x288 with 1 Axes\u003e"
                    },
                    "metadata": {
                        "needs_background": "light"
                    },
                    "output_type": "display_data"
                }
            ],
            "source": [
                "from sklearn.cluster import KMeans\n",
                "\n",
                "# Define a range for possible k values. In this example, we choose 1 to 10\n",
                "k_rng = range(1,10)\n",
                "\n",
                "# Declare an array to store the values from the sum of squared error values.\n",
                "sse = []\n",
                "\n",
                "# Using a for loop, go through each value in the k range and compute the sse value\n",
                "for k in k_rng:\n",
                "    km = KMeans(n_clusters=k)\n",
                "    km.fit(X[['status_type','num_reactions','num_comments','num_shares','num_likes','num_loves','num_wows','num_hahas','num_sads', 'num_angrys']])\n",
                "    sse.append(km.inertia_)\n",
                "\n",
                "#Cannot graph n dimensional data when N is above 2 on math.plt\n",
                "plt.xlabel('K')\n",
                "plt.ylabel('Sum of squared error')\n",
                "plt.plot(k_rng,sse)"
            ]
        },
        {
            "cell_type": "code",
            "execution_count": 31,
            "metadata": {},
            "outputs": [
                {
                    "name": "stderr",
                    "output_type": "stream",
                    "text": "/usr/lib/python3.10/site-packages/sklearn/utils/validation.py:1688: FutureWarning: Feature names only support names that are all strings. Got feature names with dtypes: ['tuple']. An error will be raised in 1.2.\n  warnings.warn(\n"
                }
            ],
            "source": [
                "# Define a KMeans object with 2 as the value of k. Call the object km\n",
                "km = KMeans(n_clusters=2)\n",
                "\n",
                "# Predict the data set excluding the name column. \n",
                "# Save the prediction in an array and call it y_predicted\n",
                "\n",
                "y_predicted = km.fit_predict(X[['status_type','num_reactions','num_comments','num_shares','num_likes','num_loves','num_wows','num_hahas','num_sads', 'num_angrys']])\n",
                "# Add a column to the data frame to store the predicted cluster ID of each element\n",
                "X['cluster'] = y_predicted"
            ]
        },
        {
            "cell_type": "code",
            "execution_count": 0,
            "metadata": {},
            "outputs": [],
            "source": [
                ""
            ]
        }
    ]
}
