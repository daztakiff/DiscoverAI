{
    "metadata": {
        "kernelspec": {
            "name": "python3",
            "display_name": "Python 3 (ipykernel)",
            "language": "python"
        }
    },
    "nbformat": 4,
    "nbformat_minor": 2,
    "cells": [
        {
            "attachments": {},
            "cell_type": "markdown",
            "metadata": {},
            "source": [
                "# **Clustering Online Retail Data**"
            ]
        },
        {
            "attachments": {},
            "cell_type": "markdown",
            "metadata": {},
            "source": [
                "The code below is taken from Manish Kumar's submission on [kaggle.com](https://www.kaggle.com/hellbuoy/online-retail-k-means-hierarchical-clustering/notebook).\n",
                "\n",
                "You are encouraged to go to the link above and check the full code. In this lab, you will do the necessary steps to explore the data and prepare it for sklearn algorithms."
            ]
        },
        {
            "attachments": {},
            "cell_type": "markdown",
            "metadata": {},
            "source": [
                "**About the data set**"
            ]
        },
        {
            "attachments": {},
            "cell_type": "markdown",
            "metadata": {},
            "source": [
                "Online retail is a transnational data set which contains all the transactions occurring between 01/12/2010 and 09/12/2011 for a UK-based and registered non-store online retail. The company mainly sells unique all-occasion gifts. Many customers of the company are wholesalers.\n",
                "\n",
                "Using K-Means Clustering, you can segement the Customers based on RFM so that the company can target its customers efficiently."
            ]
        },
        {
            "attachments": {},
            "cell_type": "markdown",
            "metadata": {},
            "source": [
                "**Import libraries**"
            ]
        },
        {
            "cell_type": "code",
            "execution_count": 22,
            "metadata": {},
            "outputs": [],
            "source": [
                "# import required libraries for dataframe and visualization\n",
                "\n",
                "import numpy as np # linear algebra\n",
                "import pandas as pd # data processing, CSV file I/O (e.g. pd.read_csv)\n",
                "import matplotlib.pyplot as plt # for data visualization\n",
                "import seaborn as sns # for statistical data visualization\n",
                "import datetime as dt\n",
                "\n",
                "# import required sklearn libraries for KMeans Clustering\n",
                "import sklearn\n",
                "from sklearn.preprocessing import MinMaxScaler\n",
                "from sklearn.cluster import KMeans"
            ]
        },
        {
            "attachments": {},
            "cell_type": "markdown",
            "metadata": {},
            "source": [
                "# Acquire data"
            ]
        },
        {
            "cell_type": "code",
            "execution_count": 23,
            "metadata": {},
            "outputs": [
                {
                    "data": {
                        "text/html": "\u003cdiv\u003e\n\u003cstyle scoped\u003e\n    .dataframe tbody tr th:only-of-type {\n        vertical-align: middle;\n    }\n\n    .dataframe tbody tr th {\n        vertical-align: top;\n    }\n\n    .dataframe thead th {\n        text-align: right;\n    }\n\u003c/style\u003e\n\u003ctable border=\"1\" class=\"dataframe\"\u003e\n  \u003cthead\u003e\n    \u003ctr style=\"text-align: right;\"\u003e\n      \u003cth\u003e\u003c/th\u003e\n      \u003cth\u003eInvoiceNo\u003c/th\u003e\n      \u003cth\u003eStockCode\u003c/th\u003e\n      \u003cth\u003eDescription\u003c/th\u003e\n      \u003cth\u003eQuantity\u003c/th\u003e\n      \u003cth\u003eInvoiceDate\u003c/th\u003e\n      \u003cth\u003eUnitPrice\u003c/th\u003e\n      \u003cth\u003eCustomerID\u003c/th\u003e\n      \u003cth\u003eCountry\u003c/th\u003e\n    \u003c/tr\u003e\n  \u003c/thead\u003e\n  \u003ctbody\u003e\n    \u003ctr\u003e\n      \u003cth\u003e0\u003c/th\u003e\n      \u003ctd\u003e536365\u003c/td\u003e\n      \u003ctd\u003e85123A\u003c/td\u003e\n      \u003ctd\u003eWHITE HANGING HEART T-LIGHT HOLDER\u003c/td\u003e\n      \u003ctd\u003e6\u003c/td\u003e\n      \u003ctd\u003e01-12-2010 8:26\u003c/td\u003e\n      \u003ctd\u003e2.55\u003c/td\u003e\n      \u003ctd\u003e17850.0\u003c/td\u003e\n      \u003ctd\u003eUnited Kingdom\u003c/td\u003e\n    \u003c/tr\u003e\n    \u003ctr\u003e\n      \u003cth\u003e1\u003c/th\u003e\n      \u003ctd\u003e536365\u003c/td\u003e\n      \u003ctd\u003e71053\u003c/td\u003e\n      \u003ctd\u003eWHITE METAL LANTERN\u003c/td\u003e\n      \u003ctd\u003e6\u003c/td\u003e\n      \u003ctd\u003e01-12-2010 8:26\u003c/td\u003e\n      \u003ctd\u003e3.39\u003c/td\u003e\n      \u003ctd\u003e17850.0\u003c/td\u003e\n      \u003ctd\u003eUnited Kingdom\u003c/td\u003e\n    \u003c/tr\u003e\n    \u003ctr\u003e\n      \u003cth\u003e2\u003c/th\u003e\n      \u003ctd\u003e536365\u003c/td\u003e\n      \u003ctd\u003e84406B\u003c/td\u003e\n      \u003ctd\u003eCREAM CUPID HEARTS COAT HANGER\u003c/td\u003e\n      \u003ctd\u003e8\u003c/td\u003e\n      \u003ctd\u003e01-12-2010 8:26\u003c/td\u003e\n      \u003ctd\u003e2.75\u003c/td\u003e\n      \u003ctd\u003e17850.0\u003c/td\u003e\n      \u003ctd\u003eUnited Kingdom\u003c/td\u003e\n    \u003c/tr\u003e\n    \u003ctr\u003e\n      \u003cth\u003e3\u003c/th\u003e\n      \u003ctd\u003e536365\u003c/td\u003e\n      \u003ctd\u003e84029G\u003c/td\u003e\n      \u003ctd\u003eKNITTED UNION FLAG HOT WATER BOTTLE\u003c/td\u003e\n      \u003ctd\u003e6\u003c/td\u003e\n      \u003ctd\u003e01-12-2010 8:26\u003c/td\u003e\n      \u003ctd\u003e3.39\u003c/td\u003e\n      \u003ctd\u003e17850.0\u003c/td\u003e\n      \u003ctd\u003eUnited Kingdom\u003c/td\u003e\n    \u003c/tr\u003e\n    \u003ctr\u003e\n      \u003cth\u003e4\u003c/th\u003e\n      \u003ctd\u003e536365\u003c/td\u003e\n      \u003ctd\u003e84029E\u003c/td\u003e\n      \u003ctd\u003eRED WOOLLY HOTTIE WHITE HEART.\u003c/td\u003e\n      \u003ctd\u003e6\u003c/td\u003e\n      \u003ctd\u003e01-12-2010 8:26\u003c/td\u003e\n      \u003ctd\u003e3.39\u003c/td\u003e\n      \u003ctd\u003e17850.0\u003c/td\u003e\n      \u003ctd\u003eUnited Kingdom\u003c/td\u003e\n    \u003c/tr\u003e\n  \u003c/tbody\u003e\n\u003c/table\u003e\n\u003c/div\u003e",
                        "text/plain": "  InvoiceNo StockCode                          Description  Quantity  \\\n0    536365    85123A   WHITE HANGING HEART T-LIGHT HOLDER         6   \n1    536365     71053                  WHITE METAL LANTERN         6   \n2    536365    84406B       CREAM CUPID HEARTS COAT HANGER         8   \n3    536365    84029G  KNITTED UNION FLAG HOT WATER BOTTLE         6   \n4    536365    84029E       RED WOOLLY HOTTIE WHITE HEART.         6   \n\n       InvoiceDate  UnitPrice  CustomerID         Country  \n0  01-12-2010 8:26       2.55     17850.0  United Kingdom  \n1  01-12-2010 8:26       3.39     17850.0  United Kingdom  \n2  01-12-2010 8:26       2.75     17850.0  United Kingdom  \n3  01-12-2010 8:26       3.39     17850.0  United Kingdom  \n4  01-12-2010 8:26       3.39     17850.0  United Kingdom  "
                    },
                    "execution_count": 23,
                    "metadata": {},
                    "output_type": "execute_result"
                }
            ],
            "source": [
                "# Read in the data using panda's read_csv method\n",
                "retail = pd.read_csv('UnsupervisedLearning/OnlineRetail/OnlineRetail.csv', sep=\",\", encoding=\"ISO-8859-1\", header=0)\n",
                "\n",
                "#TODO: Write code to inspect the first five rows of the data frame\n",
                "retail.head()"
            ]
        },
        {
            "attachments": {},
            "cell_type": "markdown",
            "metadata": {},
            "source": [
                "# Inspect data"
            ]
        },
        {
            "cell_type": "code",
            "execution_count": 24,
            "metadata": {},
            "outputs": [
                {
                    "data": {
                        "text/plain": "(2500, 8)"
                    },
                    "execution_count": 24,
                    "metadata": {},
                    "output_type": "execute_result"
                }
            ],
            "source": [
                "#TODO: Write code to inspect the shape of the data frame\n",
                "retail.shape"
            ]
        },
        {
            "cell_type": "code",
            "execution_count": 25,
            "metadata": {},
            "outputs": [
                {
                    "data": {
                        "text/html": "\u003cdiv\u003e\n\u003cstyle scoped\u003e\n    .dataframe tbody tr th:only-of-type {\n        vertical-align: middle;\n    }\n\n    .dataframe tbody tr th {\n        vertical-align: top;\n    }\n\n    .dataframe thead th {\n        text-align: right;\n    }\n\u003c/style\u003e\n\u003ctable border=\"1\" class=\"dataframe\"\u003e\n  \u003cthead\u003e\n    \u003ctr style=\"text-align: right;\"\u003e\n      \u003cth\u003e\u003c/th\u003e\n      \u003cth\u003eInvoiceNo\u003c/th\u003e\n      \u003cth\u003eStockCode\u003c/th\u003e\n      \u003cth\u003eDescription\u003c/th\u003e\n      \u003cth\u003eQuantity\u003c/th\u003e\n      \u003cth\u003eInvoiceDate\u003c/th\u003e\n      \u003cth\u003eUnitPrice\u003c/th\u003e\n      \u003cth\u003eCustomerID\u003c/th\u003e\n      \u003cth\u003eCountry\u003c/th\u003e\n    \u003c/tr\u003e\n  \u003c/thead\u003e\n  \u003ctbody\u003e\n    \u003ctr\u003e\n      \u003cth\u003e0\u003c/th\u003e\n      \u003ctd\u003e536365\u003c/td\u003e\n      \u003ctd\u003e85123A\u003c/td\u003e\n      \u003ctd\u003eWHITE HANGING HEART T-LIGHT HOLDER\u003c/td\u003e\n      \u003ctd\u003e6\u003c/td\u003e\n      \u003ctd\u003e01-12-2010 8:26\u003c/td\u003e\n      \u003ctd\u003e2.55\u003c/td\u003e\n      \u003ctd\u003e17850.0\u003c/td\u003e\n      \u003ctd\u003eUnited Kingdom\u003c/td\u003e\n    \u003c/tr\u003e\n    \u003ctr\u003e\n      \u003cth\u003e1\u003c/th\u003e\n      \u003ctd\u003e536365\u003c/td\u003e\n      \u003ctd\u003e71053\u003c/td\u003e\n      \u003ctd\u003eWHITE METAL LANTERN\u003c/td\u003e\n      \u003ctd\u003e6\u003c/td\u003e\n      \u003ctd\u003e01-12-2010 8:26\u003c/td\u003e\n      \u003ctd\u003e3.39\u003c/td\u003e\n      \u003ctd\u003e17850.0\u003c/td\u003e\n      \u003ctd\u003eUnited Kingdom\u003c/td\u003e\n    \u003c/tr\u003e\n    \u003ctr\u003e\n      \u003cth\u003e2\u003c/th\u003e\n      \u003ctd\u003e536365\u003c/td\u003e\n      \u003ctd\u003e84406B\u003c/td\u003e\n      \u003ctd\u003eCREAM CUPID HEARTS COAT HANGER\u003c/td\u003e\n      \u003ctd\u003e8\u003c/td\u003e\n      \u003ctd\u003e01-12-2010 8:26\u003c/td\u003e\n      \u003ctd\u003e2.75\u003c/td\u003e\n      \u003ctd\u003e17850.0\u003c/td\u003e\n      \u003ctd\u003eUnited Kingdom\u003c/td\u003e\n    \u003c/tr\u003e\n    \u003ctr\u003e\n      \u003cth\u003e3\u003c/th\u003e\n      \u003ctd\u003e536365\u003c/td\u003e\n      \u003ctd\u003e84029G\u003c/td\u003e\n      \u003ctd\u003eKNITTED UNION FLAG HOT WATER BOTTLE\u003c/td\u003e\n      \u003ctd\u003e6\u003c/td\u003e\n      \u003ctd\u003e01-12-2010 8:26\u003c/td\u003e\n      \u003ctd\u003e3.39\u003c/td\u003e\n      \u003ctd\u003e17850.0\u003c/td\u003e\n      \u003ctd\u003eUnited Kingdom\u003c/td\u003e\n    \u003c/tr\u003e\n    \u003ctr\u003e\n      \u003cth\u003e4\u003c/th\u003e\n      \u003ctd\u003e536365\u003c/td\u003e\n      \u003ctd\u003e84029E\u003c/td\u003e\n      \u003ctd\u003eRED WOOLLY HOTTIE WHITE HEART.\u003c/td\u003e\n      \u003ctd\u003e6\u003c/td\u003e\n      \u003ctd\u003e01-12-2010 8:26\u003c/td\u003e\n      \u003ctd\u003e3.39\u003c/td\u003e\n      \u003ctd\u003e17850.0\u003c/td\u003e\n      \u003ctd\u003eUnited Kingdom\u003c/td\u003e\n    \u003c/tr\u003e\n    \u003ctr\u003e\n      \u003cth\u003e...\u003c/th\u003e\n      \u003ctd\u003e...\u003c/td\u003e\n      \u003ctd\u003e...\u003c/td\u003e\n      \u003ctd\u003e...\u003c/td\u003e\n      \u003ctd\u003e...\u003c/td\u003e\n      \u003ctd\u003e...\u003c/td\u003e\n      \u003ctd\u003e...\u003c/td\u003e\n      \u003ctd\u003e...\u003c/td\u003e\n      \u003ctd\u003e...\u003c/td\u003e\n    \u003c/tr\u003e\n    \u003ctr\u003e\n      \u003cth\u003e2495\u003c/th\u003e\n      \u003ctd\u003e536592\u003c/td\u003e\n      \u003ctd\u003e20761\u003c/td\u003e\n      \u003ctd\u003eBLUE PAISLEY SKETCHBOOK\u003c/td\u003e\n      \u003ctd\u003e1\u003c/td\u003e\n      \u003ctd\u003e01-12-2010 17:06\u003c/td\u003e\n      \u003ctd\u003e7.62\u003c/td\u003e\n      \u003ctd\u003eNaN\u003c/td\u003e\n      \u003ctd\u003eUnited Kingdom\u003c/td\u003e\n    \u003c/tr\u003e\n    \u003ctr\u003e\n      \u003cth\u003e2496\u003c/th\u003e\n      \u003ctd\u003e536592\u003c/td\u003e\n      \u003ctd\u003e20780\u003c/td\u003e\n      \u003ctd\u003eBLACK EAR MUFF HEADPHONES\u003c/td\u003e\n      \u003ctd\u003e1\u003c/td\u003e\n      \u003ctd\u003e01-12-2010 17:06\u003c/td\u003e\n      \u003ctd\u003e11.02\u003c/td\u003e\n      \u003ctd\u003eNaN\u003c/td\u003e\n      \u003ctd\u003eUnited Kingdom\u003c/td\u003e\n    \u003c/tr\u003e\n    \u003ctr\u003e\n      \u003cth\u003e2497\u003c/th\u003e\n      \u003ctd\u003e536592\u003c/td\u003e\n      \u003ctd\u003e20846\u003c/td\u003e\n      \u003ctd\u003eZINC HEART LATTICE T-LIGHT HOLDER\u003c/td\u003e\n      \u003ctd\u003e1\u003c/td\u003e\n      \u003ctd\u003e01-12-2010 17:06\u003c/td\u003e\n      \u003ctd\u003e2.51\u003c/td\u003e\n      \u003ctd\u003eNaN\u003c/td\u003e\n      \u003ctd\u003eUnited Kingdom\u003c/td\u003e\n    \u003c/tr\u003e\n    \u003ctr\u003e\n      \u003cth\u003e2498\u003c/th\u003e\n      \u003ctd\u003e536592\u003c/td\u003e\n      \u003ctd\u003e20914\u003c/td\u003e\n      \u003ctd\u003eSET/5 RED RETROSPOT LID GLASS BOWLS\u003c/td\u003e\n      \u003ctd\u003e1\u003c/td\u003e\n      \u003ctd\u003e01-12-2010 17:06\u003c/td\u003e\n      \u003ctd\u003e5.91\u003c/td\u003e\n      \u003ctd\u003eNaN\u003c/td\u003e\n      \u003ctd\u003eUnited Kingdom\u003c/td\u003e\n    \u003c/tr\u003e\n    \u003ctr\u003e\n      \u003cth\u003e2499\u003c/th\u003e\n      \u003ctd\u003e536592\u003c/td\u003e\n      \u003ctd\u003e20931\u003c/td\u003e\n      \u003ctd\u003eBLUE POT PLANT CANDLE\u003c/td\u003e\n      \u003ctd\u003e2\u003c/td\u003e\n      \u003ctd\u003e01-12-2010 17:06\u003c/td\u003e\n      \u003ctd\u003e7.62\u003c/td\u003e\n      \u003ctd\u003eNaN\u003c/td\u003e\n      \u003ctd\u003eUnited Kingdom\u003c/td\u003e\n    \u003c/tr\u003e\n  \u003c/tbody\u003e\n\u003c/table\u003e\n\u003cp\u003e2500 rows × 8 columns\u003c/p\u003e\n\u003c/div\u003e",
                        "text/plain": "     InvoiceNo StockCode                          Description  Quantity  \\\n0       536365    85123A   WHITE HANGING HEART T-LIGHT HOLDER         6   \n1       536365     71053                  WHITE METAL LANTERN         6   \n2       536365    84406B       CREAM CUPID HEARTS COAT HANGER         8   \n3       536365    84029G  KNITTED UNION FLAG HOT WATER BOTTLE         6   \n4       536365    84029E       RED WOOLLY HOTTIE WHITE HEART.         6   \n...        ...       ...                                  ...       ...   \n2495    536592     20761              BLUE PAISLEY SKETCHBOOK         1   \n2496    536592     20780            BLACK EAR MUFF HEADPHONES         1   \n2497    536592     20846    ZINC HEART LATTICE T-LIGHT HOLDER         1   \n2498    536592     20914  SET/5 RED RETROSPOT LID GLASS BOWLS         1   \n2499    536592     20931                BLUE POT PLANT CANDLE         2   \n\n           InvoiceDate  UnitPrice  CustomerID         Country  \n0      01-12-2010 8:26       2.55     17850.0  United Kingdom  \n1      01-12-2010 8:26       3.39     17850.0  United Kingdom  \n2      01-12-2010 8:26       2.75     17850.0  United Kingdom  \n3      01-12-2010 8:26       3.39     17850.0  United Kingdom  \n4      01-12-2010 8:26       3.39     17850.0  United Kingdom  \n...                ...        ...         ...             ...  \n2495  01-12-2010 17:06       7.62         NaN  United Kingdom  \n2496  01-12-2010 17:06      11.02         NaN  United Kingdom  \n2497  01-12-2010 17:06       2.51         NaN  United Kingdom  \n2498  01-12-2010 17:06       5.91         NaN  United Kingdom  \n2499  01-12-2010 17:06       7.62         NaN  United Kingdom  \n\n[2500 rows x 8 columns]"
                    },
                    "execution_count": 25,
                    "metadata": {},
                    "output_type": "execute_result"
                }
            ],
            "source": [
                "#TODO: Write code to display information about the data frame\n",
                "retail"
            ]
        },
        {
            "cell_type": "code",
            "execution_count": 26,
            "metadata": {},
            "outputs": [
                {
                    "data": {
                        "text/html": "\u003cdiv\u003e\n\u003cstyle scoped\u003e\n    .dataframe tbody tr th:only-of-type {\n        vertical-align: middle;\n    }\n\n    .dataframe tbody tr th {\n        vertical-align: top;\n    }\n\n    .dataframe thead th {\n        text-align: right;\n    }\n\u003c/style\u003e\n\u003ctable border=\"1\" class=\"dataframe\"\u003e\n  \u003cthead\u003e\n    \u003ctr style=\"text-align: right;\"\u003e\n      \u003cth\u003e\u003c/th\u003e\n      \u003cth\u003eInvoiceNo\u003c/th\u003e\n      \u003cth\u003eStockCode\u003c/th\u003e\n      \u003cth\u003eDescription\u003c/th\u003e\n      \u003cth\u003eQuantity\u003c/th\u003e\n      \u003cth\u003eInvoiceDate\u003c/th\u003e\n      \u003cth\u003eUnitPrice\u003c/th\u003e\n      \u003cth\u003eCustomerID\u003c/th\u003e\n      \u003cth\u003eCountry\u003c/th\u003e\n    \u003c/tr\u003e\n  \u003c/thead\u003e\n  \u003ctbody\u003e\n    \u003ctr\u003e\n      \u003cth\u003ecount\u003c/th\u003e\n      \u003ctd\u003e2500\u003c/td\u003e\n      \u003ctd\u003e2500\u003c/td\u003e\n      \u003ctd\u003e2490\u003c/td\u003e\n      \u003ctd\u003e2500.000000\u003c/td\u003e\n      \u003ctd\u003e2500\u003c/td\u003e\n      \u003ctd\u003e2500.000000\u003c/td\u003e\n      \u003ctd\u003e1919.000000\u003c/td\u003e\n      \u003ctd\u003e2500\u003c/td\u003e\n    \u003c/tr\u003e\n    \u003ctr\u003e\n      \u003cth\u003eunique\u003c/th\u003e\n      \u003ctd\u003e138\u003c/td\u003e\n      \u003ctd\u003e1175\u003c/td\u003e\n      \u003ctd\u003e1167\u003c/td\u003e\n      \u003ctd\u003eNaN\u003c/td\u003e\n      \u003ctd\u003e117\u003c/td\u003e\n      \u003ctd\u003eNaN\u003c/td\u003e\n      \u003ctd\u003eNaN\u003c/td\u003e\n      \u003ctd\u003e7\u003c/td\u003e\n    \u003c/tr\u003e\n    \u003ctr\u003e\n      \u003cth\u003etop\u003c/th\u003e\n      \u003ctd\u003e536544\u003c/td\u003e\n      \u003ctd\u003e22632\u003c/td\u003e\n      \u003ctd\u003eHAND WARMER SCOTTY DOG DESIGN\u003c/td\u003e\n      \u003ctd\u003eNaN\u003c/td\u003e\n      \u003ctd\u003e01-12-2010 14:32\u003c/td\u003e\n      \u003ctd\u003eNaN\u003c/td\u003e\n      \u003ctd\u003eNaN\u003c/td\u003e\n      \u003ctd\u003eUnited Kingdom\u003c/td\u003e\n    \u003c/tr\u003e\n    \u003ctr\u003e\n      \u003cth\u003efreq\u003c/th\u003e\n      \u003ctd\u003e527\u003c/td\u003e\n      \u003ctd\u003e19\u003c/td\u003e\n      \u003ctd\u003e18\u003c/td\u003e\n      \u003ctd\u003eNaN\u003c/td\u003e\n      \u003ctd\u003e528\u003c/td\u003e\n      \u003ctd\u003eNaN\u003c/td\u003e\n      \u003ctd\u003eNaN\u003c/td\u003e\n      \u003ctd\u003e2341\u003c/td\u003e\n    \u003c/tr\u003e\n    \u003ctr\u003e\n      \u003cth\u003emean\u003c/th\u003e\n      \u003ctd\u003eNaN\u003c/td\u003e\n      \u003ctd\u003eNaN\u003c/td\u003e\n      \u003ctd\u003eNaN\u003c/td\u003e\n      \u003ctd\u003e10.065200\u003c/td\u003e\n      \u003ctd\u003eNaN\u003c/td\u003e\n      \u003ctd\u003e3.701044\u003c/td\u003e\n      \u003ctd\u003e15637.112559\u003c/td\u003e\n      \u003ctd\u003eNaN\u003c/td\u003e\n    \u003c/tr\u003e\n    \u003ctr\u003e\n      \u003cth\u003estd\u003c/th\u003e\n      \u003ctd\u003eNaN\u003c/td\u003e\n      \u003ctd\u003eNaN\u003c/td\u003e\n      \u003ctd\u003eNaN\u003c/td\u003e\n      \u003ctd\u003e29.139317\u003c/td\u003e\n      \u003ctd\u003eNaN\u003c/td\u003e\n      \u003ctd\u003e12.328907\u003c/td\u003e\n      \u003ctd\u003e1848.418705\u003c/td\u003e\n      \u003ctd\u003eNaN\u003c/td\u003e\n    \u003c/tr\u003e\n    \u003ctr\u003e\n      \u003cth\u003emin\u003c/th\u003e\n      \u003ctd\u003eNaN\u003c/td\u003e\n      \u003ctd\u003eNaN\u003c/td\u003e\n      \u003ctd\u003eNaN\u003c/td\u003e\n      \u003ctd\u003e-24.000000\u003c/td\u003e\n      \u003ctd\u003eNaN\u003c/td\u003e\n      \u003ctd\u003e0.000000\u003c/td\u003e\n      \u003ctd\u003e12431.000000\u003c/td\u003e\n      \u003ctd\u003eNaN\u003c/td\u003e\n    \u003c/tr\u003e\n    \u003ctr\u003e\n      \u003cth\u003e25%\u003c/th\u003e\n      \u003ctd\u003eNaN\u003c/td\u003e\n      \u003ctd\u003eNaN\u003c/td\u003e\n      \u003ctd\u003eNaN\u003c/td\u003e\n      \u003ctd\u003e1.000000\u003c/td\u003e\n      \u003ctd\u003eNaN\u003c/td\u003e\n      \u003ctd\u003e1.250000\u003c/td\u003e\n      \u003ctd\u003e14307.000000\u003c/td\u003e\n      \u003ctd\u003eNaN\u003c/td\u003e\n    \u003c/tr\u003e\n    \u003ctr\u003e\n      \u003cth\u003e50%\u003c/th\u003e\n      \u003ctd\u003eNaN\u003c/td\u003e\n      \u003ctd\u003eNaN\u003c/td\u003e\n      \u003ctd\u003eNaN\u003c/td\u003e\n      \u003ctd\u003e3.000000\u003c/td\u003e\n      \u003ctd\u003eNaN\u003c/td\u003e\n      \u003ctd\u003e2.510000\u003c/td\u003e\n      \u003ctd\u003e15605.000000\u003c/td\u003e\n      \u003ctd\u003eNaN\u003c/td\u003e\n    \u003c/tr\u003e\n    \u003ctr\u003e\n      \u003cth\u003e75%\u003c/th\u003e\n      \u003ctd\u003eNaN\u003c/td\u003e\n      \u003ctd\u003eNaN\u003c/td\u003e\n      \u003ctd\u003eNaN\u003c/td\u003e\n      \u003ctd\u003e10.000000\u003c/td\u003e\n      \u003ctd\u003eNaN\u003c/td\u003e\n      \u003ctd\u003e4.210000\u003c/td\u003e\n      \u003ctd\u003e17841.000000\u003c/td\u003e\n      \u003ctd\u003eNaN\u003c/td\u003e\n    \u003c/tr\u003e\n    \u003ctr\u003e\n      \u003cth\u003emax\u003c/th\u003e\n      \u003ctd\u003eNaN\u003c/td\u003e\n      \u003ctd\u003eNaN\u003c/td\u003e\n      \u003ctd\u003eNaN\u003c/td\u003e\n      \u003ctd\u003e600.000000\u003c/td\u003e\n      \u003ctd\u003eNaN\u003c/td\u003e\n      \u003ctd\u003e569.770000\u003c/td\u003e\n      \u003ctd\u003e18229.000000\u003c/td\u003e\n      \u003ctd\u003eNaN\u003c/td\u003e\n    \u003c/tr\u003e\n  \u003c/tbody\u003e\n\u003c/table\u003e\n\u003c/div\u003e",
                        "text/plain": "       InvoiceNo StockCode                    Description     Quantity  \\\ncount       2500      2500                           2490  2500.000000   \nunique       138      1175                           1167          NaN   \ntop       536544     22632  HAND WARMER SCOTTY DOG DESIGN          NaN   \nfreq         527        19                             18          NaN   \nmean         NaN       NaN                            NaN    10.065200   \nstd          NaN       NaN                            NaN    29.139317   \nmin          NaN       NaN                            NaN   -24.000000   \n25%          NaN       NaN                            NaN     1.000000   \n50%          NaN       NaN                            NaN     3.000000   \n75%          NaN       NaN                            NaN    10.000000   \nmax          NaN       NaN                            NaN   600.000000   \n\n             InvoiceDate    UnitPrice    CustomerID         Country  \ncount               2500  2500.000000   1919.000000            2500  \nunique               117          NaN           NaN               7  \ntop     01-12-2010 14:32          NaN           NaN  United Kingdom  \nfreq                 528          NaN           NaN            2341  \nmean                 NaN     3.701044  15637.112559             NaN  \nstd                  NaN    12.328907   1848.418705             NaN  \nmin                  NaN     0.000000  12431.000000             NaN  \n25%                  NaN     1.250000  14307.000000             NaN  \n50%                  NaN     2.510000  15605.000000             NaN  \n75%                  NaN     4.210000  17841.000000             NaN  \nmax                  NaN   569.770000  18229.000000             NaN  "
                    },
                    "execution_count": 26,
                    "metadata": {},
                    "output_type": "execute_result"
                }
            ],
            "source": [
                "#TODO: Write code to display statistics about the data frame\n",
                "retail.describe(include=\"all\")"
            ]
        },
        {
            "attachments": {},
            "cell_type": "markdown",
            "metadata": {},
            "source": [
                "# Clean data"
            ]
        },
        {
            "attachments": {},
            "cell_type": "markdown",
            "metadata": {},
            "source": [
                "**Correcting**"
            ]
        },
        {
            "cell_type": "code",
            "execution_count": 27,
            "metadata": {},
            "outputs": [
                {
                    "data": {
                        "text/html": "\u003cdiv\u003e\n\u003cstyle scoped\u003e\n    .dataframe tbody tr th:only-of-type {\n        vertical-align: middle;\n    }\n\n    .dataframe tbody tr th {\n        vertical-align: top;\n    }\n\n    .dataframe thead th {\n        text-align: right;\n    }\n\u003c/style\u003e\n\u003ctable border=\"1\" class=\"dataframe\"\u003e\n  \u003cthead\u003e\n    \u003ctr style=\"text-align: right;\"\u003e\n      \u003cth\u003e\u003c/th\u003e\n      \u003cth\u003eInvoiceNo\u003c/th\u003e\n      \u003cth\u003eStockCode\u003c/th\u003e\n      \u003cth\u003eDescription\u003c/th\u003e\n      \u003cth\u003eQuantity\u003c/th\u003e\n      \u003cth\u003eInvoiceDate\u003c/th\u003e\n      \u003cth\u003eUnitPrice\u003c/th\u003e\n      \u003cth\u003eCustomerID\u003c/th\u003e\n      \u003cth\u003eCountry\u003c/th\u003e\n    \u003c/tr\u003e\n  \u003c/thead\u003e\n  \u003ctbody\u003e\n    \u003ctr\u003e\n      \u003cth\u003e0\u003c/th\u003e\n      \u003ctd\u003e536365\u003c/td\u003e\n      \u003ctd\u003e85123A\u003c/td\u003e\n      \u003ctd\u003eWHITE HANGING HEART T-LIGHT HOLDER\u003c/td\u003e\n      \u003ctd\u003e6\u003c/td\u003e\n      \u003ctd\u003e01-12-2010 8:26\u003c/td\u003e\n      \u003ctd\u003e2.55\u003c/td\u003e\n      \u003ctd\u003e17850.0\u003c/td\u003e\n      \u003ctd\u003eUnited Kingdom\u003c/td\u003e\n    \u003c/tr\u003e\n    \u003ctr\u003e\n      \u003cth\u003e1\u003c/th\u003e\n      \u003ctd\u003e536365\u003c/td\u003e\n      \u003ctd\u003e71053\u003c/td\u003e\n      \u003ctd\u003eWHITE METAL LANTERN\u003c/td\u003e\n      \u003ctd\u003e6\u003c/td\u003e\n      \u003ctd\u003e01-12-2010 8:26\u003c/td\u003e\n      \u003ctd\u003e3.39\u003c/td\u003e\n      \u003ctd\u003e17850.0\u003c/td\u003e\n      \u003ctd\u003eUnited Kingdom\u003c/td\u003e\n    \u003c/tr\u003e\n    \u003ctr\u003e\n      \u003cth\u003e2\u003c/th\u003e\n      \u003ctd\u003e536365\u003c/td\u003e\n      \u003ctd\u003e84406B\u003c/td\u003e\n      \u003ctd\u003eCREAM CUPID HEARTS COAT HANGER\u003c/td\u003e\n      \u003ctd\u003e8\u003c/td\u003e\n      \u003ctd\u003e01-12-2010 8:26\u003c/td\u003e\n      \u003ctd\u003e2.75\u003c/td\u003e\n      \u003ctd\u003e17850.0\u003c/td\u003e\n      \u003ctd\u003eUnited Kingdom\u003c/td\u003e\n    \u003c/tr\u003e\n    \u003ctr\u003e\n      \u003cth\u003e3\u003c/th\u003e\n      \u003ctd\u003e536365\u003c/td\u003e\n      \u003ctd\u003e84029G\u003c/td\u003e\n      \u003ctd\u003eKNITTED UNION FLAG HOT WATER BOTTLE\u003c/td\u003e\n      \u003ctd\u003e6\u003c/td\u003e\n      \u003ctd\u003e01-12-2010 8:26\u003c/td\u003e\n      \u003ctd\u003e3.39\u003c/td\u003e\n      \u003ctd\u003e17850.0\u003c/td\u003e\n      \u003ctd\u003eUnited Kingdom\u003c/td\u003e\n    \u003c/tr\u003e\n    \u003ctr\u003e\n      \u003cth\u003e4\u003c/th\u003e\n      \u003ctd\u003e536365\u003c/td\u003e\n      \u003ctd\u003e84029E\u003c/td\u003e\n      \u003ctd\u003eRED WOOLLY HOTTIE WHITE HEART.\u003c/td\u003e\n      \u003ctd\u003e6\u003c/td\u003e\n      \u003ctd\u003e01-12-2010 8:26\u003c/td\u003e\n      \u003ctd\u003e3.39\u003c/td\u003e\n      \u003ctd\u003e17850.0\u003c/td\u003e\n      \u003ctd\u003eUnited Kingdom\u003c/td\u003e\n    \u003c/tr\u003e\n    \u003ctr\u003e\n      \u003cth\u003e...\u003c/th\u003e\n      \u003ctd\u003e...\u003c/td\u003e\n      \u003ctd\u003e...\u003c/td\u003e\n      \u003ctd\u003e...\u003c/td\u003e\n      \u003ctd\u003e...\u003c/td\u003e\n      \u003ctd\u003e...\u003c/td\u003e\n      \u003ctd\u003e...\u003c/td\u003e\n      \u003ctd\u003e...\u003c/td\u003e\n      \u003ctd\u003e...\u003c/td\u003e\n    \u003c/tr\u003e\n    \u003ctr\u003e\n      \u003cth\u003e2456\u003c/th\u003e\n      \u003ctd\u003e536591\u003c/td\u003e\n      \u003ctd\u003e22121\u003c/td\u003e\n      \u003ctd\u003eNOEL WOODEN BLOCK LETTERS\u003c/td\u003e\n      \u003ctd\u003e2\u003c/td\u003e\n      \u003ctd\u003e01-12-2010 16:58\u003c/td\u003e\n      \u003ctd\u003e5.95\u003c/td\u003e\n      \u003ctd\u003e14606.0\u003c/td\u003e\n      \u003ctd\u003eUnited Kingdom\u003c/td\u003e\n    \u003c/tr\u003e\n    \u003ctr\u003e\n      \u003cth\u003e2457\u003c/th\u003e\n      \u003ctd\u003e536591\u003c/td\u003e\n      \u003ctd\u003e21488\u003c/td\u003e\n      \u003ctd\u003eRED WHITE SCARF  HOT WATER BOTTLE\u003c/td\u003e\n      \u003ctd\u003e1\u003c/td\u003e\n      \u003ctd\u003e01-12-2010 16:58\u003c/td\u003e\n      \u003ctd\u003e3.95\u003c/td\u003e\n      \u003ctd\u003e14606.0\u003c/td\u003e\n      \u003ctd\u003eUnited Kingdom\u003c/td\u003e\n    \u003c/tr\u003e\n    \u003ctr\u003e\n      \u003cth\u003e2458\u003c/th\u003e\n      \u003ctd\u003e536591\u003c/td\u003e\n      \u003ctd\u003e21484\u003c/td\u003e\n      \u003ctd\u003eCHICK GREY HOT WATER BOTTLE\u003c/td\u003e\n      \u003ctd\u003e2\u003c/td\u003e\n      \u003ctd\u003e01-12-2010 16:58\u003c/td\u003e\n      \u003ctd\u003e3.45\u003c/td\u003e\n      \u003ctd\u003e14606.0\u003c/td\u003e\n      \u003ctd\u003eUnited Kingdom\u003c/td\u003e\n    \u003c/tr\u003e\n    \u003ctr\u003e\n      \u003cth\u003e2459\u003c/th\u003e\n      \u003ctd\u003e536591\u003c/td\u003e\n      \u003ctd\u003e22357\u003c/td\u003e\n      \u003ctd\u003eKINGS CHOICE BISCUIT TIN\u003c/td\u003e\n      \u003ctd\u003e1\u003c/td\u003e\n      \u003ctd\u003e01-12-2010 16:58\u003c/td\u003e\n      \u003ctd\u003e4.25\u003c/td\u003e\n      \u003ctd\u003e14606.0\u003c/td\u003e\n      \u003ctd\u003eUnited Kingdom\u003c/td\u003e\n    \u003c/tr\u003e\n    \u003ctr\u003e\n      \u003cth\u003e2460\u003c/th\u003e\n      \u003ctd\u003e536591\u003c/td\u003e\n      \u003ctd\u003e21985\u003c/td\u003e\n      \u003ctd\u003ePACK OF 12 HEARTS DESIGN TISSUES\u003c/td\u003e\n      \u003ctd\u003e4\u003c/td\u003e\n      \u003ctd\u003e01-12-2010 16:58\u003c/td\u003e\n      \u003ctd\u003e0.29\u003c/td\u003e\n      \u003ctd\u003e14606.0\u003c/td\u003e\n      \u003ctd\u003eUnited Kingdom\u003c/td\u003e\n    \u003c/tr\u003e\n  \u003c/tbody\u003e\n\u003c/table\u003e\n\u003cp\u003e1919 rows × 8 columns\u003c/p\u003e\n\u003c/div\u003e",
                        "text/plain": "     InvoiceNo StockCode                          Description  Quantity  \\\n0       536365    85123A   WHITE HANGING HEART T-LIGHT HOLDER         6   \n1       536365     71053                  WHITE METAL LANTERN         6   \n2       536365    84406B       CREAM CUPID HEARTS COAT HANGER         8   \n3       536365    84029G  KNITTED UNION FLAG HOT WATER BOTTLE         6   \n4       536365    84029E       RED WOOLLY HOTTIE WHITE HEART.         6   \n...        ...       ...                                  ...       ...   \n2456    536591     22121            NOEL WOODEN BLOCK LETTERS         2   \n2457    536591     21488    RED WHITE SCARF  HOT WATER BOTTLE         1   \n2458    536591     21484          CHICK GREY HOT WATER BOTTLE         2   \n2459    536591     22357             KINGS CHOICE BISCUIT TIN         1   \n2460    536591     21985     PACK OF 12 HEARTS DESIGN TISSUES         4   \n\n           InvoiceDate  UnitPrice  CustomerID         Country  \n0      01-12-2010 8:26       2.55     17850.0  United Kingdom  \n1      01-12-2010 8:26       3.39     17850.0  United Kingdom  \n2      01-12-2010 8:26       2.75     17850.0  United Kingdom  \n3      01-12-2010 8:26       3.39     17850.0  United Kingdom  \n4      01-12-2010 8:26       3.39     17850.0  United Kingdom  \n...                ...        ...         ...             ...  \n2456  01-12-2010 16:58       5.95     14606.0  United Kingdom  \n2457  01-12-2010 16:58       3.95     14606.0  United Kingdom  \n2458  01-12-2010 16:58       3.45     14606.0  United Kingdom  \n2459  01-12-2010 16:58       4.25     14606.0  United Kingdom  \n2460  01-12-2010 16:58       0.29     14606.0  United Kingdom  \n\n[1919 rows x 8 columns]"
                    },
                    "execution_count": 27,
                    "metadata": {},
                    "output_type": "execute_result"
                }
            ],
            "source": [
                "#TODO: Write code to drop rows having missing values\n",
                "retail.dropna()"
            ]
        },
        {
            "cell_type": "code",
            "execution_count": 28,
            "metadata": {},
            "outputs": [],
            "source": [
                "# Changing the datatype of Customer Id to a string as per Business understanding\n",
                "\n",
                "retail['CustomerID'] = retail['CustomerID'].astype(str)"
            ]
        },
        {
            "attachments": {},
            "cell_type": "markdown",
            "metadata": {},
            "source": [
                "**Creating**"
            ]
        },
        {
            "attachments": {},
            "cell_type": "markdown",
            "metadata": {},
            "source": [
                "We are going to analysis the Customers based on 3 factors:\n",
                "* R (Recency): Number of days since last purchase\n",
                "* F (Frequency): Number of transactions\n",
                "* M (Monetary): Total amount of transactions (revenue contributed)"
            ]
        },
        {
            "cell_type": "code",
            "execution_count": 29,
            "metadata": {},
            "outputs": [
                {
                    "data": {
                        "text/html": "\u003cdiv\u003e\n\u003cstyle scoped\u003e\n    .dataframe tbody tr th:only-of-type {\n        vertical-align: middle;\n    }\n\n    .dataframe tbody tr th {\n        vertical-align: top;\n    }\n\n    .dataframe thead th {\n        text-align: right;\n    }\n\u003c/style\u003e\n\u003ctable border=\"1\" class=\"dataframe\"\u003e\n  \u003cthead\u003e\n    \u003ctr style=\"text-align: right;\"\u003e\n      \u003cth\u003e\u003c/th\u003e\n      \u003cth\u003eCustomerID\u003c/th\u003e\n      \u003cth\u003eAmount\u003c/th\u003e\n    \u003c/tr\u003e\n  \u003c/thead\u003e\n  \u003ctbody\u003e\n    \u003ctr\u003e\n      \u003cth\u003e0\u003c/th\u003e\n      \u003ctd\u003e12431.0\u003c/td\u003e\n      \u003ctd\u003e358.25\u003c/td\u003e\n    \u003c/tr\u003e\n    \u003ctr\u003e\n      \u003cth\u003e1\u003c/th\u003e\n      \u003ctd\u003e12433.0\u003c/td\u003e\n      \u003ctd\u003e1919.14\u003c/td\u003e\n    \u003c/tr\u003e\n    \u003ctr\u003e\n      \u003cth\u003e2\u003c/th\u003e\n      \u003ctd\u003e12472.0\u003c/td\u003e\n      \u003ctd\u003e-122.30\u003c/td\u003e\n    \u003c/tr\u003e\n    \u003ctr\u003e\n      \u003cth\u003e3\u003c/th\u003e\n      \u003ctd\u003e12583.0\u003c/td\u003e\n      \u003ctd\u003e855.86\u003c/td\u003e\n    \u003c/tr\u003e\n    \u003ctr\u003e\n      \u003cth\u003e4\u003c/th\u003e\n      \u003ctd\u003e12662.0\u003c/td\u003e\n      \u003ctd\u003e261.48\u003c/td\u003e\n    \u003c/tr\u003e\n  \u003c/tbody\u003e\n\u003c/table\u003e\n\u003c/div\u003e",
                        "text/plain": "  CustomerID   Amount\n0    12431.0   358.25\n1    12433.0  1919.14\n2    12472.0  -122.30\n3    12583.0   855.86\n4    12662.0   261.48"
                    },
                    "execution_count": 29,
                    "metadata": {},
                    "output_type": "execute_result"
                }
            ],
            "source": [
                "# Create a new attribute : Monetary based on Quantity and UnitPrice\n",
                "\n",
                "retail['Amount'] = retail['Quantity']*retail['UnitPrice']\n",
                "rfm_m = retail.groupby('CustomerID')['Amount'].sum()\n",
                "rfm_m = rfm_m.reset_index()\n",
                "\n",
                "#TODO: Write code to inspect the first five rows of rfm_m\n",
                "rfm_m.head()"
            ]
        },
        {
            "cell_type": "code",
            "execution_count": 30,
            "metadata": {},
            "outputs": [
                {
                    "data": {
                        "text/html": "\u003cdiv\u003e\n\u003cstyle scoped\u003e\n    .dataframe tbody tr th:only-of-type {\n        vertical-align: middle;\n    }\n\n    .dataframe tbody tr th {\n        vertical-align: top;\n    }\n\n    .dataframe thead th {\n        text-align: right;\n    }\n\u003c/style\u003e\n\u003ctable border=\"1\" class=\"dataframe\"\u003e\n  \u003cthead\u003e\n    \u003ctr style=\"text-align: right;\"\u003e\n      \u003cth\u003e\u003c/th\u003e\n      \u003cth\u003eCustomerID\u003c/th\u003e\n      \u003cth\u003eFrequency\u003c/th\u003e\n    \u003c/tr\u003e\n  \u003c/thead\u003e\n  \u003ctbody\u003e\n    \u003ctr\u003e\n      \u003cth\u003e0\u003c/th\u003e\n      \u003ctd\u003e12431.0\u003c/td\u003e\n      \u003ctd\u003e14\u003c/td\u003e\n    \u003c/tr\u003e\n    \u003ctr\u003e\n      \u003cth\u003e1\u003c/th\u003e\n      \u003ctd\u003e12433.0\u003c/td\u003e\n      \u003ctd\u003e73\u003c/td\u003e\n    \u003c/tr\u003e\n    \u003ctr\u003e\n      \u003cth\u003e2\u003c/th\u003e\n      \u003ctd\u003e12472.0\u003c/td\u003e\n      \u003ctd\u003e14\u003c/td\u003e\n    \u003c/tr\u003e\n    \u003ctr\u003e\n      \u003cth\u003e3\u003c/th\u003e\n      \u003ctd\u003e12583.0\u003c/td\u003e\n      \u003ctd\u003e20\u003c/td\u003e\n    \u003c/tr\u003e\n    \u003ctr\u003e\n      \u003cth\u003e4\u003c/th\u003e\n      \u003ctd\u003e12662.0\u003c/td\u003e\n      \u003ctd\u003e15\u003c/td\u003e\n    \u003c/tr\u003e\n  \u003c/tbody\u003e\n\u003c/table\u003e\n\u003c/div\u003e",
                        "text/plain": "  CustomerID  Frequency\n0    12431.0         14\n1    12433.0         73\n2    12472.0         14\n3    12583.0         20\n4    12662.0         15"
                    },
                    "execution_count": 30,
                    "metadata": {},
                    "output_type": "execute_result"
                }
            ],
            "source": [
                "# Create a new attribute : Frequency based on invoice count per customer ID\n",
                "\n",
                "rfm_f = retail.groupby('CustomerID')['InvoiceNo'].count()\n",
                "rfm_f = rfm_f.reset_index()\n",
                "rfm_f.columns = ['CustomerID', 'Frequency']\n",
                "\n",
                "#TODO: Write code to inspect the first five rows of rfm_f\n",
                "rfm_f.head()"
            ]
        },
        {
            "cell_type": "code",
            "execution_count": 31,
            "metadata": {},
            "outputs": [
                {
                    "data": {
                        "text/html": "\u003cdiv\u003e\n\u003cstyle scoped\u003e\n    .dataframe tbody tr th:only-of-type {\n        vertical-align: middle;\n    }\n\n    .dataframe tbody tr th {\n        vertical-align: top;\n    }\n\n    .dataframe thead th {\n        text-align: right;\n    }\n\u003c/style\u003e\n\u003ctable border=\"1\" class=\"dataframe\"\u003e\n  \u003cthead\u003e\n    \u003ctr style=\"text-align: right;\"\u003e\n      \u003cth\u003e\u003c/th\u003e\n      \u003cth\u003eCustomerID\u003c/th\u003e\n      \u003cth\u003eAmount\u003c/th\u003e\n      \u003cth\u003eFrequency\u003c/th\u003e\n    \u003c/tr\u003e\n  \u003c/thead\u003e\n  \u003ctbody\u003e\n    \u003ctr\u003e\n      \u003cth\u003e0\u003c/th\u003e\n      \u003ctd\u003e12431.0\u003c/td\u003e\n      \u003ctd\u003e358.25\u003c/td\u003e\n      \u003ctd\u003e14\u003c/td\u003e\n    \u003c/tr\u003e\n    \u003ctr\u003e\n      \u003cth\u003e1\u003c/th\u003e\n      \u003ctd\u003e12433.0\u003c/td\u003e\n      \u003ctd\u003e1919.14\u003c/td\u003e\n      \u003ctd\u003e73\u003c/td\u003e\n    \u003c/tr\u003e\n    \u003ctr\u003e\n      \u003cth\u003e2\u003c/th\u003e\n      \u003ctd\u003e12472.0\u003c/td\u003e\n      \u003ctd\u003e-122.30\u003c/td\u003e\n      \u003ctd\u003e14\u003c/td\u003e\n    \u003c/tr\u003e\n    \u003ctr\u003e\n      \u003cth\u003e3\u003c/th\u003e\n      \u003ctd\u003e12583.0\u003c/td\u003e\n      \u003ctd\u003e855.86\u003c/td\u003e\n      \u003ctd\u003e20\u003c/td\u003e\n    \u003c/tr\u003e\n    \u003ctr\u003e\n      \u003cth\u003e4\u003c/th\u003e\n      \u003ctd\u003e12662.0\u003c/td\u003e\n      \u003ctd\u003e261.48\u003c/td\u003e\n      \u003ctd\u003e15\u003c/td\u003e\n    \u003c/tr\u003e\n  \u003c/tbody\u003e\n\u003c/table\u003e\n\u003c/div\u003e",
                        "text/plain": "  CustomerID   Amount  Frequency\n0    12431.0   358.25         14\n1    12433.0  1919.14         73\n2    12472.0  -122.30         14\n3    12583.0   855.86         20\n4    12662.0   261.48         15"
                    },
                    "execution_count": 31,
                    "metadata": {},
                    "output_type": "execute_result"
                }
            ],
            "source": [
                "# Merge the two data frames\n",
                "\n",
                "rfm = pd.merge(rfm_m, rfm_f, on='CustomerID', how='inner')\n",
                "\n",
                "#TODO: Write code to inspect the first five rows of rfm\n",
                "rfm.head()"
            ]
        },
        {
            "cell_type": "code",
            "execution_count": 32,
            "metadata": {},
            "outputs": [
                {
                    "data": {
                        "text/html": "\u003cdiv\u003e\n\u003cstyle scoped\u003e\n    .dataframe tbody tr th:only-of-type {\n        vertical-align: middle;\n    }\n\n    .dataframe tbody tr th {\n        vertical-align: top;\n    }\n\n    .dataframe thead th {\n        text-align: right;\n    }\n\u003c/style\u003e\n\u003ctable border=\"1\" class=\"dataframe\"\u003e\n  \u003cthead\u003e\n    \u003ctr style=\"text-align: right;\"\u003e\n      \u003cth\u003e\u003c/th\u003e\n      \u003cth\u003eCustomerID\u003c/th\u003e\n      \u003cth\u003eAmount\u003c/th\u003e\n      \u003cth\u003eFrequency\u003c/th\u003e\n      \u003cth\u003eRecency\u003c/th\u003e\n    \u003c/tr\u003e\n  \u003c/thead\u003e\n  \u003ctbody\u003e\n    \u003ctr\u003e\n      \u003cth\u003e0\u003c/th\u003e\n      \u003ctd\u003e12431.0\u003c/td\u003e\n      \u003ctd\u003e358.25\u003c/td\u003e\n      \u003ctd\u003e14\u003c/td\u003e\n      \u003ctd\u003e0\u003c/td\u003e\n    \u003c/tr\u003e\n    \u003ctr\u003e\n      \u003cth\u003e1\u003c/th\u003e\n      \u003ctd\u003e12433.0\u003c/td\u003e\n      \u003ctd\u003e1919.14\u003c/td\u003e\n      \u003ctd\u003e73\u003c/td\u003e\n      \u003ctd\u003e0\u003c/td\u003e\n    \u003c/tr\u003e\n    \u003ctr\u003e\n      \u003cth\u003e2\u003c/th\u003e\n      \u003ctd\u003e12472.0\u003c/td\u003e\n      \u003ctd\u003e-122.30\u003c/td\u003e\n      \u003ctd\u003e14\u003c/td\u003e\n      \u003ctd\u003e0\u003c/td\u003e\n    \u003c/tr\u003e\n    \u003ctr\u003e\n      \u003cth\u003e3\u003c/th\u003e\n      \u003ctd\u003e12583.0\u003c/td\u003e\n      \u003ctd\u003e855.86\u003c/td\u003e\n      \u003ctd\u003e20\u003c/td\u003e\n      \u003ctd\u003e0\u003c/td\u003e\n    \u003c/tr\u003e\n    \u003ctr\u003e\n      \u003cth\u003e4\u003c/th\u003e\n      \u003ctd\u003e12662.0\u003c/td\u003e\n      \u003ctd\u003e261.48\u003c/td\u003e\n      \u003ctd\u003e15\u003c/td\u003e\n      \u003ctd\u003e0\u003c/td\u003e\n    \u003c/tr\u003e\n  \u003c/tbody\u003e\n\u003c/table\u003e\n\u003c/div\u003e",
                        "text/plain": "  CustomerID   Amount  Frequency  Recency\n0    12431.0   358.25         14        0\n1    12433.0  1919.14         73        0\n2    12472.0  -122.30         14        0\n3    12583.0   855.86         20        0\n4    12662.0   261.48         15        0"
                    },
                    "execution_count": 32,
                    "metadata": {},
                    "output_type": "execute_result"
                }
            ],
            "source": [
                "# Create a new attribute : Recency\n",
                "# -----------------------------------\n",
                "\n",
                "# Convert to datetime to proper datatype\n",
                "retail['InvoiceDate'] = pd.to_datetime(retail['InvoiceDate'],format='%d-%m-%Y %H:%M')\n",
                "\n",
                "# Compute the maximum date to know the last transaction date\n",
                "max_date = max(retail['InvoiceDate'])\n",
                "\n",
                "# Compute the difference between max date and transaction date\n",
                "retail['Diff'] = max_date - retail['InvoiceDate']\n",
                "\n",
                "# Compute last transaction date to get the recency of customers\n",
                "rfm_p = retail.groupby('CustomerID')['Diff'].min()\n",
                "rfm_p = rfm_p.reset_index()\n",
                "\n",
                "# Extract number of days only\n",
                "rfm_p['Diff'] = rfm_p['Diff'].dt.days\n",
                "\n",
                "# Merge tha dataframes to get the final RFM dataframe\n",
                "rfm = pd.merge(rfm, rfm_p, on='CustomerID', how='inner')\n",
                "rfm.columns = ['CustomerID', 'Amount', 'Frequency', 'Recency']\n",
                "\n",
                "#TODO: Write code to inspect the first five rows of the data frame\n",
                "rfm.head()"
            ]
        },
        {
            "attachments": {},
            "cell_type": "markdown",
            "metadata": {},
            "source": [
                "**Remove outliers**"
            ]
        },
        {
            "cell_type": "code",
            "execution_count": 33,
            "metadata": {},
            "outputs": [
                {
                    "data": {
                        "text/plain": "Text(0.5, 0, 'Attributes')"
                    },
                    "execution_count": 33,
                    "metadata": {},
                    "output_type": "execute_result"
                },
                {
                    "data": {
                        "image/png": "[encoded data removed]",
                        "text/plain": "\u003cFigure size 720x576 with 1 Axes\u003e"
                    },
                    "metadata": {
                        "needs_background": "light"
                    },
                    "output_type": "display_data"
                }
            ],
            "source": [
                "# Outlier Analysis of Amount Frequency and Recency\n",
                "\n",
                "attributes = ['Amount','Frequency','Recency']\n",
                "plt.rcParams['figure.figsize'] = [10,8]\n",
                "sns.boxplot(data = rfm[attributes], orient=\"v\", palette=\"Set2\" ,whis=1.5,saturation=1, width=0.7)\n",
                "plt.title(\"Outliers Variable Distribution\", fontsize = 14, fontweight = 'bold')\n",
                "plt.ylabel(\"Range\", fontweight = 'bold')\n",
                "plt.xlabel(\"Attributes\", fontweight = 'bold')"
            ]
        },
        {
            "cell_type": "code",
            "execution_count": 34,
            "metadata": {},
            "outputs": [],
            "source": [
                "# Remove outliers for Amount\n",
                "Q1 = rfm.Amount.quantile(0.05)\n",
                "Q3 = rfm.Amount.quantile(0.95)\n",
                "IQR = Q3 - Q1\n",
                "rfm = rfm[(rfm.Amount \u003e= Q1 - 1.5*IQR) \u0026 (rfm.Amount \u003c= Q3 + 1.5*IQR)]\n",
                "\n",
                "#TODO: Write code to remove outliers for Recency\n",
                "\n",
                "# Remove outliers for Frequency\n",
                "Q1 = rfm.Frequency.quantile(0.05)\n",
                "Q3 = rfm.Frequency.quantile(0.95)\n",
                "IQR = Q3 - Q1\n",
                "rfm = rfm[(rfm.Frequency \u003e= Q1 - 1.5*IQR) \u0026 (rfm.Frequency \u003c= Q3 + 1.5*IQR)]"
            ]
        },
        {
            "attachments": {},
            "cell_type": "markdown",
            "metadata": {},
            "source": [
                "**Rescale attributes**"
            ]
        },
        {
            "cell_type": "code",
            "execution_count": 40,
            "metadata": {},
            "outputs": [
                {
                    "data": {
                        "text/html": "\u003cdiv\u003e\n\u003cstyle scoped\u003e\n    .dataframe tbody tr th:only-of-type {\n        vertical-align: middle;\n    }\n\n    .dataframe tbody tr th {\n        vertical-align: top;\n    }\n\n    .dataframe thead th {\n        text-align: right;\n    }\n\u003c/style\u003e\n\u003ctable border=\"1\" class=\"dataframe\"\u003e\n  \u003cthead\u003e\n    \u003ctr style=\"text-align: right;\"\u003e\n      \u003cth\u003e\u003c/th\u003e\n      \u003cth\u003eAmount\u003c/th\u003e\n      \u003cth\u003eFrequency\u003c/th\u003e\n      \u003cth\u003eRecency\u003c/th\u003e\n    \u003c/tr\u003e\n  \u003c/thead\u003e\n  \u003ctbody\u003e\n    \u003ctr\u003e\n      \u003cth\u003e0\u003c/th\u003e\n      \u003ctd\u003e0.130016\u003c/td\u003e\n      \u003ctd\u003e0.154762\u003c/td\u003e\n      \u003ctd\u003e0.0\u003c/td\u003e\n    \u003c/tr\u003e\n    \u003ctr\u003e\n      \u003cth\u003e1\u003c/th\u003e\n      \u003ctd\u003e0.536117\u003c/td\u003e\n      \u003ctd\u003e0.857143\u003c/td\u003e\n      \u003ctd\u003e0.0\u003c/td\u003e\n    \u003c/tr\u003e\n    \u003ctr\u003e\n      \u003cth\u003e2\u003c/th\u003e\n      \u003ctd\u003e0.004990\u003c/td\u003e\n      \u003ctd\u003e0.154762\u003c/td\u003e\n      \u003ctd\u003e0.0\u003c/td\u003e\n    \u003c/tr\u003e\n    \u003ctr\u003e\n      \u003cth\u003e3\u003c/th\u003e\n      \u003ctd\u003e0.259481\u003c/td\u003e\n      \u003ctd\u003e0.226190\u003c/td\u003e\n      \u003ctd\u003e0.0\u003c/td\u003e\n    \u003c/tr\u003e\n    \u003ctr\u003e\n      \u003cth\u003e4\u003c/th\u003e\n      \u003ctd\u003e0.104839\u003c/td\u003e\n      \u003ctd\u003e0.166667\u003c/td\u003e\n      \u003ctd\u003e0.0\u003c/td\u003e\n    \u003c/tr\u003e\n  \u003c/tbody\u003e\n\u003c/table\u003e\n\u003c/div\u003e",
                        "text/plain": "     Amount  Frequency  Recency\n0  0.130016   0.154762      0.0\n1  0.536117   0.857143      0.0\n2  0.004990   0.154762      0.0\n3  0.259481   0.226190      0.0\n4  0.104839   0.166667      0.0"
                    },
                    "execution_count": 40,
                    "metadata": {},
                    "output_type": "execute_result"
                }
            ],
            "source": [
                "# Rescaling the attributes using a MinMaxScaler\n",
                "\n",
                "rfm_df = rfm[['Amount', 'Frequency', 'Recency']]\n",
                "\n",
                "# Instantiate\n",
                "scaler = MinMaxScaler()\n",
                "\n",
                "# fit_transform\n",
                "rfm_df_scaled = scaler.fit_transform(rfm_df)\n",
                "\n",
                "rfm_df_scaled = pd.DataFrame(rfm_df_scaled)\n",
                "rfm_df_scaled.columns = ['Amount', 'Frequency', 'Recency']\n",
                "rfm_df_scaled.head()"
            ]
        },
        {
            "attachments": {},
            "cell_type": "markdown",
            "metadata": {},
            "source": [
                "# Earn Your Wings"
            ]
        },
        {
            "attachments": {},
            "cell_type": "markdown",
            "metadata": {},
            "source": [
                "Implement a K-Means Clustering algorithm on the cleaned data set. Use the elbow method to find the right value of k to use.\n",
                "Add comments in your code to explain each step that you take in your implementation."
            ]
        },
        {
            "cell_type": "code",
            "execution_count": 43,
            "metadata": {},
            "outputs": [
                {
                    "data": {
                        "text/plain": "[\u003cmatplotlib.lines.Line2D at 0x7f808c2cd1e0\u003e]"
                    },
                    "execution_count": 43,
                    "metadata": {},
                    "output_type": "execute_result"
                },
                {
                    "data": {
                        "image/png": "[encoded data removed]",
                        "text/plain": "\u003cFigure size 720x576 with 1 Axes\u003e"
                    },
                    "metadata": {
                        "needs_background": "light"
                    },
                    "output_type": "display_data"
                }
            ],
            "source": [
                "#drop Recency\n",
                "rfm_df_scaled.drop('Recency', axis=1)\n",
                "\n",
                "# Define a range for possible k values. In this example, we choose 1 to 10\n",
                "k_rng = range(1,10)\n",
                "\n",
                "# Declare an array to store the values from the sum of squared error values.\n",
                "sse = []\n",
                "\n",
                "# Using a for loop, go through each value in the k range and compute the sse value\n",
                "for k in k_rng:\n",
                "    km = KMeans(n_clusters=k)\n",
                "    km.fit(rfm_df_scaled[['Amount','Frequency','Recency']])\n",
                "    sse.append(km.inertia_)\n",
                "\n",
                "# Plot the sse value for each k.\n",
                "# Notice that 3 is the elbow value.\n",
                "plt.xlabel('K')\n",
                "plt.ylabel('Sum of squared error')\n",
                "plt.plot(k_rng,sse)"
            ]
        },
        {
            "cell_type": "code",
            "execution_count": 47,
            "metadata": {},
            "outputs": [
                {
                    "name": "stderr",
                    "output_type": "stream",
                    "text": "No artists with labels found to put in legend.  Note that artists whose label start with an underscore are ignored when legend() is called with no argument.\n"
                },
                {
                    "data": {
                        "text/plain": "\u003cmatplotlib.legend.Legend at 0x7f808c08d450\u003e"
                    },
                    "execution_count": 47,
                    "metadata": {},
                    "output_type": "execute_result"
                },
                {
                    "data": {
                        "image/png": "[encoded data removed]",
                        "text/plain": "\u003cFigure size 720x576 with 1 Axes\u003e"
                    },
                    "metadata": {
                        "needs_background": "light"
                    },
                    "output_type": "display_data"
                }
            ],
            "source": [
                "# Define a KMeans object with 3 as the value of k. Call the object km\n",
                "km = KMeans(n_clusters=4)\n",
                "\n",
                "# Predict the data set excluding the name column. \n",
                "# Save the prediction in an array and call it y_predicted\n",
                "\n",
                "y_predicted = km.fit_predict(rfm_df_scaled[['Amount','Frequency']])\n",
                "# Add a column to the data frame to store the predicted cluster ID of each element\n",
                "rfm_df_scaled['cluster'] = y_predicted\n",
                "\n",
                "df1 = rfm_df_scaled[rfm_df_scaled.cluster==0]\n",
                "df2 = rfm_df_scaled[rfm_df_scaled.cluster==1]\n",
                "df3 = rfm_df_scaled[rfm_df_scaled.cluster==2]\n",
                "df4 = rfm_df_scaled[rfm_df_scaled.cluster==3]\n",
                "\n",
                "# Plot the data frames with different colors to differentiate them\n",
                "plt.scatter(df1.Amount,df1['Frequency'],color='green')\n",
                "plt.scatter(df2.Amount,df2['Frequency'],color='red')\n",
                "plt.scatter(df3.Amount,df3['Frequency'],color='black')\n",
                "plt.scatter(df4.Amount,df4['Frequency'],color='purple')\n",
                "\n",
                "# Define the labels on the x and y axes\n",
                "plt.xlabel('Amount')\n",
                "plt.ylabel('Frequency')\n",
                "\n",
                "# Plot the legend\n",
                "plt.legend()\n",
                "\n",
                ""
            ]
        },
        {
            "cell_type": "code",
            "execution_count": 0,
            "metadata": {},
            "outputs": [],
            "source": [
                ""
            ]
        }
    ]
}
