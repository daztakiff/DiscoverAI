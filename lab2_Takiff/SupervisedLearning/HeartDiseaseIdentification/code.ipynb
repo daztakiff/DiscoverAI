{
    "metadata": {
        "kernelspec": {
            "name": "python3",
            "display_name": "Python 3 (ipykernel)",
            "language": "python"
        }
    },
    "nbformat": 4,
    "nbformat_minor": 2,
    "cells": [
        {
            "attachments": {},
            "cell_type": "markdown",
            "metadata": {},
            "source": [
                "# **Heart Disease Identification with Decision Trees**"
            ]
        },
        {
            "attachments": {},
            "cell_type": "markdown",
            "metadata": {},
            "source": [
                "The code below is taken from Pablo M Gomez's submission on [kaggle.com](https://www.kaggle.com/tentotheminus9/what-causes-heart-disease-explaining-the-model).\n",
                "\n",
                "You are encouraged to go to the link above and check the full code. In this lab, you will do the necessary steps to explore the data and prepare it for sklearn algorithms."
            ]
        },
        {
            "attachments": {},
            "cell_type": "markdown",
            "metadata": {},
            "source": [
                "**About the data set**"
            ]
        },
        {
            "attachments": {},
            "cell_type": "markdown",
            "metadata": {},
            "source": [
                "The Cleveland database is the only one that has been used by ML researchers to\n",
                "this date to predict the presence of heart disease in a patient. It is integer valued from 0 (no presence) to 4.\n",
                ""
            ]
        },
        {
            "attachments": {},
            "cell_type": "markdown",
            "metadata": {},
            "source": [
                "**Import libraries**"
            ]
        },
        {
            "cell_type": "code",
            "execution_count": 1,
            "metadata": {},
            "outputs": [],
            "source": [
                "#loading dataset\n",
                "import pandas as pd\n",
                "import numpy as np\n",
                "\n",
                "#visualisation\n",
                "import matplotlib.pyplot as plt\n",
                "%matplotlib inline\n",
                "import seaborn as sns\n",
                "\n",
                "# data splitting\n",
                "from sklearn.model_selection import train_test_split\n",
                "\n",
                "# data modeling\n",
                "from sklearn.tree import DecisionTreeClassifier"
            ]
        },
        {
            "attachments": {},
            "cell_type": "markdown",
            "metadata": {},
            "source": [
                "# Acquire data"
            ]
        },
        {
            "cell_type": "code",
            "execution_count": 2,
            "metadata": {},
            "outputs": [],
            "source": [
                "# Read in the data using panda's read_csv method\n",
                "dt = pd.read_csv(\"SupervisedLearning/HeartDiseaseIdentification/heart.csv\")\n",
                "\n",
                "#TODO: Write code to inspect the first five rows of the dataframe\n",
                ""
            ]
        },
        {
            "attachments": {},
            "cell_type": "markdown",
            "metadata": {},
            "source": [
                "# Inspect data"
            ]
        },
        {
            "cell_type": "code",
            "execution_count": 3,
            "metadata": {},
            "outputs": [],
            "source": [
                "#TODO: Write code to inspect the shape of the data frame\n",
                ""
            ]
        },
        {
            "cell_type": "code",
            "execution_count": 4,
            "metadata": {},
            "outputs": [],
            "source": [
                "#TODO: Write code to display information about the data frame\n",
                ""
            ]
        },
        {
            "cell_type": "code",
            "execution_count": 5,
            "metadata": {},
            "outputs": [],
            "source": [
                "#TODO: Write code to display statistics about the data frame\n",
                ""
            ]
        },
        {
            "attachments": {},
            "cell_type": "markdown",
            "metadata": {},
            "source": [
                "# Clean data"
            ]
        },
        {
            "attachments": {},
            "cell_type": "markdown",
            "metadata": {},
            "source": [
                "**Correcting**"
            ]
        },
        {
            "attachments": {},
            "cell_type": "markdown",
            "metadata": {},
            "source": [
                "Let's change the column names to be a bit clearer"
            ]
        },
        {
            "cell_type": "code",
            "execution_count": 6,
            "metadata": {},
            "outputs": [],
            "source": [
                "dt.columns = ['age', 'sex', 'chest_pain_type', 'resting_blood_pressure', 'cholesterol', 'fasting_blood_sugar', 'rest_ecg', 'max_heart_rate_achieved',\n",
                "       'exercise_induced_angina', 'st_depression', 'st_slope', 'num_major_vessels', 'thalassemia', 'target']"
            ]
        },
        {
            "attachments": {},
            "cell_type": "markdown",
            "metadata": {},
            "source": [
                "**Converting**"
            ]
        },
        {
            "attachments": {},
            "cell_type": "markdown",
            "metadata": {},
            "source": [
                "Let's change the values of the categorical variables, to improve the interpretation later on"
            ]
        },
        {
            "cell_type": "code",
            "execution_count": 13,
            "metadata": {},
            "outputs": [],
            "source": [
                "# Convert features 'female' and 'male' to 0 and 1\n",
                "dt['sex'][dt['sex'] == 0] = 'female'\n",
                "dt['sex'][dt['sex'] == 1] = 'male'\n",
                "\n",
                "# Convert chest_pain_type features to 0,1,2,3 and 4\n",
                "dt['chest_pain_type'][dt['chest_pain_type'] == 1] = 'typical angina'\n",
                "dt['chest_pain_type'][dt['chest_pain_type'] == 2] = 'atypical angina'\n",
                "dt['chest_pain_type'][dt['chest_pain_type'] == 3] = 'non-anginal pain'\n",
                "dt['chest_pain_type'][dt['chest_pain_type'] == 4] = 'asymptomatic'\n",
                "\n",
                "#TODO: Write code to convert fasting_blood_sugar features\n",
                "#Hint: 'lower than 120mg/ml' should be 0, and \n",
                "#'greater than 120mg/ml' should be 1\n",
                "\n",
                "\n",
                "#TODO: Write code to convert rest_ecg features\n",
                "#Hint: 'normal' should be 0, and \n",
                "#'ST-T wave abnormality' should be 1\n",
                "#'left ventricular hypertrophy' should be 2\n",
                "\n",
                "\n",
                "#TODO: Write code to convert exercise_induced_angina features\n",
                "#Hint: 'no' should be 0, and \n",
                "#'yes' should be 1\n",
                "\n",
                "\n",
                "#TODO: Write code to convert st_slope features\n",
                "#Hint: 'upsloping' should be 0, and \n",
                "#'flat' should be 1\n",
                "#'downsloping' should be 2\n",
                "\n",
                "\n",
                "#TODO: Write code to convert thalassemia features\n",
                "#Hint: 'normal' should be 0, and \n",
                "#'fixed defect' should be 1\n",
                "#'reversable defect' should be 2\n",
                "\n",
                ""
            ]
        },
        {
            "attachments": {},
            "cell_type": "markdown",
            "metadata": {},
            "source": [
                "Check the data types"
            ]
        },
        {
            "cell_type": "code",
            "execution_count": 8,
            "metadata": {},
            "outputs": [],
            "source": [
                "dt.dtypes"
            ]
        },
        {
            "attachments": {},
            "cell_type": "markdown",
            "metadata": {},
            "source": [
                "Some of those aren't quite right. The code below changes them into categorical variables"
            ]
        },
        {
            "cell_type": "code",
            "execution_count": 9,
            "metadata": {},
            "outputs": [],
            "source": [
                "dt['sex'] = dt['sex'].astype('object')\n",
                "dt['chest_pain_type'] = dt['chest_pain_type'].astype('object')\n",
                "dt['fasting_blood_sugar'] = dt['fasting_blood_sugar'].astype('object')\n",
                "dt['rest_ecg'] = dt['rest_ecg'].astype('object')\n",
                "dt['exercise_induced_angina'] = dt['exercise_induced_angina'].astype('object')\n",
                "dt['st_slope'] = dt['st_slope'].astype('object')\n",
                "dt['thalassemia'] = dt['thalassemia'].astype('object')\n",
                ""
            ]
        },
        {
            "cell_type": "code",
            "execution_count": 10,
            "metadata": {},
            "outputs": [],
            "source": [
                "#TODO: Write code to check the data types again see the change\n",
                ""
            ]
        },
        {
            "attachments": {},
            "cell_type": "markdown",
            "metadata": {},
            "source": [
                "**Creating**"
            ]
        },
        {
            "attachments": {},
            "cell_type": "markdown",
            "metadata": {},
            "source": [
                "For the categorical varibles, we need to create dummy variables and drop the first category of each. \n",
                "\n",
                "For example, rather than having 'male' and 'female', we'll have 'male' with values of 0 or 1 (1 being male, and 0 therefore being female)."
            ]
        },
        {
            "cell_type": "code",
            "execution_count": 11,
            "metadata": {},
            "outputs": [],
            "source": [
                "dt = pd.get_dummies(dt, drop_first = True)"
            ]
        },
        {
            "attachments": {},
            "cell_type": "markdown",
            "metadata": {},
            "source": [
                "Inspect the data frame"
            ]
        },
        {
            "cell_type": "code",
            "execution_count": 12,
            "metadata": {},
            "outputs": [],
            "source": [
                "dt.head()"
            ]
        },
        {
            "attachments": {},
            "cell_type": "markdown",
            "metadata": {},
            "source": [
                "# Earn Your Wings"
            ]
        },
        {
            "attachments": {},
            "cell_type": "markdown",
            "metadata": {},
            "source": [
                "Use a decision tree classifier on the cleaned data set to predict 'Target' for the given data. Report the accuracy score. Add comments in your code to explain each step that you take in your implementation."
            ]
        }
    ]
}
