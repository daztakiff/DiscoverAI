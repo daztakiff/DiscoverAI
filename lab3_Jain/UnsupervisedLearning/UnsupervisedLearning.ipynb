{
    "metadata": {
        "kernelspec": {
            "name": "python3",
            "display_name": "Python 3 (ipykernel)",
            "language": "python"
        }
    },
    "nbformat": 4,
    "nbformat_minor": 2,
    "cells": [
        {
            "attachments": {},
            "cell_type": "markdown",
            "metadata": {},
            "source": [
                "# **Entropy-based assessment of clusters**"
            ]
        },
        {
            "attachments": {},
            "cell_type": "markdown",
            "metadata": {},
            "source": [
                "This code is taken from an introduction to unsupervised learning with **K-Means Clustering** following [this tutorial](https://youtu.be/EItlUEPCIzM).\n",
                "\n",
                "The elbow method implemented in lab 1 and 2 is a great test of figuring out the optimal value of clusters to create.\n",
                "\n",
                "Entropy-based tests, like the **homogeneity score** can be used in supervised clustering problems. \n",
                "The homogeneity score estimates how many of the predicted clusters contain only members of a single class. The higher the core is the better the clustering.\n",
                "\n",
                "Homogeneity is computed based on the conditional entropy H(y_true|y_pred), which measures the uncertainty in the determining the right class after having the clustered dataset:\n",
                "\n",
                "![alt text](/home/homogeneity_score.png)\n",
                "\n",
                " To explore the homogeneity test, we will assume that we know the ground truth clustering (y_true) for the given data set, and compare it to the predicted clusters for different values of K."
            ]
        },
        {
            "cell_type": "code",
            "execution_count": 1,
            "metadata": {},
            "outputs": [],
            "source": [
                "# Import packages\n",
                "from sklearn.cluster import KMeans\n",
                "import pandas as pd\n",
                "from sklearn.preprocessing import MinMaxScaler\n",
                "from matplotlib import pyplot as plt\n",
                "from sklearn.metrics import homogeneity_score\n",
                "%matplotlib inline"
            ]
        },
        {
            "attachments": {},
            "cell_type": "markdown",
            "metadata": {},
            "source": [
                "**1. Read in the data**"
            ]
        },
        {
            "cell_type": "code",
            "execution_count": 2,
            "metadata": {},
            "outputs": [],
            "source": [
                "df = pd.read_csv('UnsupervisedLearning/clustering_test.csv')\n",
                "\n",
                "#TODO: Write code to inspect the first five rows of the data frame\n",
                ""
            ]
        },
        {
            "attachments": {},
            "cell_type": "markdown",
            "metadata": {},
            "source": [
                "**2. Use the MinMax scaler to fit the data**"
            ]
        },
        {
            "cell_type": "code",
            "execution_count": 3,
            "metadata": {},
            "outputs": [
                {
                    "data": {
                        "text/plain": "\u003cmatplotlib.collections.PathCollection at 0x7fa31b340e80\u003e"
                    },
                    "execution_count": 3,
                    "metadata": {},
                    "output_type": "execute_result"
                },
                {
                    "data": {
                        "image/png": "[encoded data removed]",
                        "text/plain": "\u003cFigure size 432x288 with 1 Axes\u003e"
                    },
                    "metadata": {
                        "needs_background": "light"
                    },
                    "output_type": "display_data"
                }
            ],
            "source": [
                "scaler = MinMaxScaler()\n",
                "\n",
                "scaler.fit(df[['Income($)']])\n",
                "df['Income($)'] = scaler.transform(df[['Income($)']])\n",
                "\n",
                "scaler.fit(df[['Age']])\n",
                "df['Age'] = scaler.transform(df[['Age']])\n",
                "\n",
                "plt.scatter(df.Age,df['Income($)'])"
            ]
        },
        {
            "attachments": {},
            "cell_type": "markdown",
            "metadata": {},
            "source": [
                "**3.A. Elbow method: compute the sum of squared error for different values of k**"
            ]
        },
        {
            "cell_type": "code",
            "execution_count": 4,
            "metadata": {},
            "outputs": [],
            "source": [
                "sse = []\n",
                "k_rng = range(1,10)\n",
                "for k in k_rng:\n",
                "    km = KMeans(n_clusters=k)\n",
                "    km.fit(df[['Age','Income($)']])\n",
                "    sse.append(km.inertia_)"
            ]
        },
        {
            "attachments": {},
            "cell_type": "markdown",
            "metadata": {},
            "source": [
                "**Plot SSE for different values of K to find the optimal K**"
            ]
        },
        {
            "cell_type": "code",
            "execution_count": 5,
            "metadata": {},
            "outputs": [
                {
                    "data": {
                        "text/plain": "[\u003cmatplotlib.lines.Line2D at 0x7fa3131d9150\u003e]"
                    },
                    "execution_count": 5,
                    "metadata": {},
                    "output_type": "execute_result"
                },
                {
                    "data": {
                        "image/png": "[encoded data removed]",
                        "text/plain": "\u003cFigure size 432x288 with 1 Axes\u003e"
                    },
                    "metadata": {
                        "needs_background": "light"
                    },
                    "output_type": "display_data"
                }
            ],
            "source": [
                "plt.xlabel('K')\n",
                "plt.ylabel('Sum of squared error')\n",
                "plt.plot(k_rng,sse)"
            ]
        },
        {
            "attachments": {},
            "cell_type": "markdown",
            "metadata": {},
            "source": [
                "**3.B. Use the homogeneity score on different values of K**"
            ]
        },
        {
            "cell_type": "code",
            "execution_count": 6,
            "metadata": {},
            "outputs": [],
            "source": [
                "y_true = [0, 0, 0, 0, 1, 1, 1, 1, 1, 1, 1, 0, 0, 0, 0, 0, 2, 2, 2, 2, 2, 2]\n",
                "homogeneityscore = []\n",
                "completenessScore = []\n",
                "k_rng = range(1,10)\n",
                "for k in k_rng:\n",
                "    km = KMeans(n_clusters=k)\n",
                "    y_predicted = km.fit_predict(df[['Age','Income($)']])\n",
                "    homogeneityscore.append(homogeneity_score(y_true, y_predicted))\n",
                ""
            ]
        },
        {
            "attachments": {},
            "cell_type": "markdown",
            "metadata": {},
            "source": [
                "**Plot homogeneity score for different values of K to find the optimal K**"
            ]
        },
        {
            "cell_type": "code",
            "execution_count": 7,
            "metadata": {},
            "outputs": [
                {
                    "data": {
                        "text/plain": "[\u003cmatplotlib.lines.Line2D at 0x7fa312855b10\u003e]"
                    },
                    "execution_count": 7,
                    "metadata": {},
                    "output_type": "execute_result"
                },
                {
                    "data": {
                        "image/png": "[encoded data removed]",
                        "text/plain": "\u003cFigure size 432x288 with 1 Axes\u003e"
                    },
                    "metadata": {
                        "needs_background": "light"
                    },
                    "output_type": "display_data"
                }
            ],
            "source": [
                "plt.xlabel('K')\n",
                "plt.ylabel('homogeneity score')\n",
                "plt.plot(k_rng, homogeneityscore)"
            ]
        },
        {
            "attachments": {},
            "cell_type": "markdown",
            "metadata": {},
            "source": [
                "**4. Use KMeans to create 3 clusters**"
            ]
        },
        {
            "cell_type": "code",
            "execution_count": 8,
            "metadata": {},
            "outputs": [
                {
                    "data": {
                        "text/plain": "\u003cmatplotlib.legend.Legend at 0x7fa3128c7af0\u003e"
                    },
                    "execution_count": 8,
                    "metadata": {},
                    "output_type": "execute_result"
                },
                {
                    "data": {
                        "image/png": "[encoded data removed]",
                        "text/plain": "\u003cFigure size 432x288 with 1 Axes\u003e"
                    },
                    "metadata": {
                        "needs_background": "light"
                    },
                    "output_type": "display_data"
                }
            ],
            "source": [
                "km = KMeans(n_clusters=3)\n",
                "y_predicted = km.fit_predict(df[['Age','Income($)']])\n",
                "df['cluster']=y_predicted\n",
                "df1 = df[df.cluster==0]\n",
                "df2 = df[df.cluster==1]\n",
                "df3 = df[df.cluster==2]\n",
                "plt.scatter(df1.Age,df1['Income($)'],color='green')\n",
                "plt.scatter(df2.Age,df2['Income($)'],color='red')\n",
                "plt.scatter(df3.Age,df3['Income($)'],color='black')\n",
                "plt.scatter(km.cluster_centers_[:,0],km.cluster_centers_[:,1],color='purple',marker='*',label='centroid')\n",
                "plt.legend()"
            ]
        },
        {
            "attachments": {},
            "cell_type": "markdown",
            "metadata": {},
            "source": [
                "**5. Earn Your Wings: DO it yourself**\n",
                "\n",
                "Test this algorithm on your own data set. Note that this will require a ground truth for the clustering, as shown in step 3.B. "
            ]
        }
    ]
}
